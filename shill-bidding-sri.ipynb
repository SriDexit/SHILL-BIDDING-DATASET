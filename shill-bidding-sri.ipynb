{
 "cells": [
  {
   "cell_type": "markdown",
   "id": "225e8a9f",
   "metadata": {
    "papermill": {
     "duration": 0.064889,
     "end_time": "2023-04-27T06:47:02.960201",
     "exception": false,
     "start_time": "2023-04-27T06:47:02.895312",
     "status": "completed"
    },
    "tags": []
   },
   "source": [
    "## <h1><center> Data Preparation and Machine Learning </center></h1>"
   ]
  },
  {
   "cell_type": "code",
   "execution_count": 1,
   "id": "e706a2e1",
   "metadata": {
    "execution": {
     "iopub.execute_input": "2023-04-27T06:47:03.090566Z",
     "iopub.status.busy": "2023-04-27T06:47:03.089594Z",
     "iopub.status.idle": "2023-04-27T06:47:04.555212Z",
     "shell.execute_reply": "2023-04-27T06:47:04.555824Z",
     "shell.execute_reply.started": "2023-04-27T06:43:51.521888Z"
    },
    "papermill": {
     "duration": 1.535149,
     "end_time": "2023-04-27T06:47:04.556153",
     "exception": false,
     "start_time": "2023-04-27T06:47:03.021004",
     "status": "completed"
    },
    "tags": []
   },
   "outputs": [],
   "source": [
    "import pandas as pd\n",
    "import numpy as np\n",
    "import matplotlib.pyplot as plt\n",
    "import seaborn as sns\n",
    "\n",
    "from sklearn.preprocessing import LabelEncoder\n",
    "\n",
    "from sklearn.preprocessing import MinMaxScaler\n",
    "from sklearn.decomposition import PCA\n",
    "from sklearn.discriminant_analysis import LinearDiscriminantAnalysis\n",
    "from sklearn.model_selection import train_test_split\n",
    "from imblearn.over_sampling import SMOTE\n",
    "\n",
    "from sklearn.model_selection import cross_val_score     \n",
    "from sklearn.metrics import confusion_matrix             \n",
    "from sklearn.metrics import accuracy_score\n",
    "from sklearn.metrics import classification_report\n",
    "\n",
    "from sklearn.model_selection import GridSearchCV\n",
    "from sklearn.linear_model import LogisticRegression                     \n",
    "from sklearn.tree import DecisionTreeClassifier\n",
    "\n",
    "from IPython.display import Image\n",
    "\n",
    "%matplotlib inline\n",
    "\n",
    "import warnings\n",
    "warnings.filterwarnings('ignore')"
   ]
  },
  {
   "cell_type": "markdown",
   "id": "5b29309c",
   "metadata": {
    "papermill": {
     "duration": 0.059855,
     "end_time": "2023-04-27T06:47:04.676691",
     "exception": false,
     "start_time": "2023-04-27T06:47:04.616836",
     "status": "completed"
    },
    "tags": []
   },
   "source": [
    "Online retailer, eBay is providing an option of bidding to their customers globally. Bidding is employed to find the real price of items in the market based on the demand. The price offered by anyone participating in this process is termed as a 'bid'. Normal bids are classified as ‘0’ bids in the data set and anomalous bids as ‘1’. The goal is to use classification or clustering algorithms to predict the bids in the future."
   ]
  },
  {
   "cell_type": "markdown",
   "id": "f1e6a82a",
   "metadata": {
    "papermill": {
     "duration": 0.060019,
     "end_time": "2023-04-27T06:47:04.798247",
     "exception": false,
     "start_time": "2023-04-27T06:47:04.738228",
     "status": "completed"
    },
    "tags": []
   },
   "source": [
    "**Data Dictionary**\n",
    "* **Record ID**: Unique identifier of a record in the dataset.\n",
    "* **Auction ID**: Unique identifier of an auction.\n",
    "* **Bidder ID**: Unique identifier of a bidder.\n",
    "* **Bidder Tendency**: A shill bidder participates exclusively in auctions of few sellers rather than a diversified lot. This is a collusive act involving the fraudulent seller and an accomplice.\n",
    "* **Bidding Ratio**: A shill bidder participates more frequently to raise the auction price and attract higher bids from legitimate participants.\n",
    "* **Successive Outbidding**: A shill bidder successively outbids himself even though he is the current winner to increase the price gradually with small consecutive increments.\n",
    "* **Last Bidding**: A shill bidder becomes inactive at the last stage of the auction (more than 90\\% of the auction duration) to avoid winning the auction.\n",
    "* **Auction Bids**: Auctions with SB activities tend to have a much higher number of bids than the average of bids in concurrent auctions.\n",
    "* **Auction Starting Price**: a shill bidder usually offers a small starting price to attract legitimate bidders into the auction.\n",
    "* **Early Bidding**: A shill bidder tends to bid pretty early in the auction (less than 25\\% of the auction duration) to get the attention of auction users.\n",
    "* **Winning Ratio**: A shill bidder competes in many auctions but hardly wins any auctions.\n",
    "* **Auction Duration**: How long an auction lasted.\n",
    "* **Class**: 0 for normal behaviour bidding; 1 for otherwise."
   ]
  },
  {
   "cell_type": "markdown",
   "id": "799ac2a2",
   "metadata": {
    "papermill": {
     "duration": 0.062488,
     "end_time": "2023-04-27T06:47:04.920881",
     "exception": false,
     "start_time": "2023-04-27T06:47:04.858393",
     "status": "completed"
    },
    "tags": []
   },
   "source": [
    "## Content:\n",
    "### 1. Bussiness Understanding;\n",
    "### 2. Data Understanding;\n",
    "### 3. Data preparation;\n",
    "### 4. Modeling;\n",
    "### 5. Evaluation;\n",
    "### 6. Deployment;\n",
    "### References."
   ]
  },
  {
   "cell_type": "markdown",
   "id": "039ff38b",
   "metadata": {
    "papermill": {
     "duration": 0.059781,
     "end_time": "2023-04-27T06:47:05.040733",
     "exception": false,
     "start_time": "2023-04-27T06:47:04.980952",
     "status": "completed"
    },
    "tags": []
   },
   "source": [
    "For purpose of this project we are going to use established model for data mining - **CRISP-DM** (the cross-industry standard process for data mining). CRISP-DM project consists of 6 stages. Following one another, it helps in keeping sequence of project's steps. The defined stages of CRISP-DM are:\n",
    "* Business Understanding;\n",
    "* Data understanding;\n",
    "* Data Preparation;\n",
    "* Modeling;\n",
    "* Evaluation;\n",
    "* Deployment."
   ]
  },
  {
   "cell_type": "markdown",
   "id": "db1585ad",
   "metadata": {
    "papermill": {
     "duration": 0.05965,
     "end_time": "2023-04-27T06:47:05.162811",
     "exception": false,
     "start_time": "2023-04-27T06:47:05.103161",
     "status": "completed"
    },
    "tags": []
   },
   "source": [
    "### 1. Business understanding"
   ]
  },
  {
   "cell_type": "markdown",
   "id": "82a89af3",
   "metadata": {
    "papermill": {
     "duration": 0.060075,
     "end_time": "2023-04-27T06:47:05.284242",
     "exception": false,
     "start_time": "2023-04-27T06:47:05.224167",
     "status": "completed"
    },
    "tags": []
   },
   "source": [
    "The purpose of the Business Understanding phase is to understand what the business wants to solve. On this stage we set questions we need to answer with the project's outcome. Following the assigment task we can define the next questions within the project:\n",
    "* What features are the most important for bidding class prediction?\n",
    "* Can a target variable be predicted with an accuracy higher than 90%?"
   ]
  },
  {
   "cell_type": "markdown",
   "id": "5f76a935",
   "metadata": {
    "papermill": {
     "duration": 0.060302,
     "end_time": "2023-04-27T06:47:05.405242",
     "exception": false,
     "start_time": "2023-04-27T06:47:05.344940",
     "status": "completed"
    },
    "tags": []
   },
   "source": [
    "### 2. Data Understanding"
   ]
  },
  {
   "cell_type": "markdown",
   "id": "bbe6c5a3",
   "metadata": {
    "papermill": {
     "duration": 0.059848,
     "end_time": "2023-04-27T06:47:05.525396",
     "exception": false,
     "start_time": "2023-04-27T06:47:05.465548",
     "status": "completed"
    },
    "tags": []
   },
   "source": [
    "The data understanding phase goes hand in hand with the business understanding phase and encourages the focus to ascertain, assemble, and scrutinize the data sets that can help us to achieve the project goals. "
   ]
  },
  {
   "cell_type": "markdown",
   "id": "3b3cd39c",
   "metadata": {
    "papermill": {
     "duration": 0.059698,
     "end_time": "2023-04-27T06:47:05.646512",
     "exception": false,
     "start_time": "2023-04-27T06:47:05.586814",
     "status": "completed"
    },
    "tags": []
   },
   "source": [
    "My first step will be uploading the dataset. Also, I want to set **Record_ID** as an index column. The reason for that is that the **Record_ID** column contains a unique identification number which can facilitate data retrieval and handling data in general."
   ]
  },
  {
   "cell_type": "code",
   "execution_count": 2,
   "id": "a5aa2a2f",
   "metadata": {
    "execution": {
     "iopub.execute_input": "2023-04-27T06:47:05.770705Z",
     "iopub.status.busy": "2023-04-27T06:47:05.769769Z",
     "iopub.status.idle": "2023-04-27T06:47:05.824441Z",
     "shell.execute_reply": "2023-04-27T06:47:05.825115Z",
     "shell.execute_reply.started": "2023-04-27T06:43:53.266683Z"
    },
    "papermill": {
     "duration": 0.118541,
     "end_time": "2023-04-27T06:47:05.825314",
     "exception": false,
     "start_time": "2023-04-27T06:47:05.706773",
     "status": "completed"
    },
    "tags": []
   },
   "outputs": [],
   "source": [
    "df = pd.read_csv('../input/shill-bidding-dataset/Shill Bidding Dataset.csv', index_col='Record_ID')"
   ]
  },
  {
   "cell_type": "code",
   "execution_count": 3,
   "id": "7df0b204",
   "metadata": {
    "execution": {
     "iopub.execute_input": "2023-04-27T06:47:05.956298Z",
     "iopub.status.busy": "2023-04-27T06:47:05.955639Z",
     "iopub.status.idle": "2023-04-27T06:47:05.979835Z",
     "shell.execute_reply": "2023-04-27T06:47:05.980343Z",
     "shell.execute_reply.started": "2023-04-27T06:43:53.320634Z"
    },
    "papermill": {
     "duration": 0.093466,
     "end_time": "2023-04-27T06:47:05.980529",
     "exception": false,
     "start_time": "2023-04-27T06:47:05.887063",
     "status": "completed"
    },
    "tags": []
   },
   "outputs": [
    {
     "data": {
      "text/html": [
       "<div>\n",
       "<style scoped>\n",
       "    .dataframe tbody tr th:only-of-type {\n",
       "        vertical-align: middle;\n",
       "    }\n",
       "\n",
       "    .dataframe tbody tr th {\n",
       "        vertical-align: top;\n",
       "    }\n",
       "\n",
       "    .dataframe thead th {\n",
       "        text-align: right;\n",
       "    }\n",
       "</style>\n",
       "<table border=\"1\" class=\"dataframe\">\n",
       "  <thead>\n",
       "    <tr style=\"text-align: right;\">\n",
       "      <th></th>\n",
       "      <th>Auction_ID</th>\n",
       "      <th>Bidder_ID</th>\n",
       "      <th>Bidder_Tendency</th>\n",
       "      <th>Bidding_Ratio</th>\n",
       "      <th>Successive_Outbidding</th>\n",
       "      <th>Last_Bidding</th>\n",
       "      <th>Auction_Bids</th>\n",
       "      <th>Starting_Price_Average</th>\n",
       "      <th>Early_Bidding</th>\n",
       "      <th>Winning_Ratio</th>\n",
       "      <th>Auction_Duration</th>\n",
       "      <th>Class</th>\n",
       "    </tr>\n",
       "    <tr>\n",
       "      <th>Record_ID</th>\n",
       "      <th></th>\n",
       "      <th></th>\n",
       "      <th></th>\n",
       "      <th></th>\n",
       "      <th></th>\n",
       "      <th></th>\n",
       "      <th></th>\n",
       "      <th></th>\n",
       "      <th></th>\n",
       "      <th></th>\n",
       "      <th></th>\n",
       "      <th></th>\n",
       "    </tr>\n",
       "  </thead>\n",
       "  <tbody>\n",
       "    <tr>\n",
       "      <th>1</th>\n",
       "      <td>732</td>\n",
       "      <td>_***i</td>\n",
       "      <td>0.200000</td>\n",
       "      <td>0.400000</td>\n",
       "      <td>0.0</td>\n",
       "      <td>0.000028</td>\n",
       "      <td>0.000000</td>\n",
       "      <td>0.993593</td>\n",
       "      <td>0.000028</td>\n",
       "      <td>0.666667</td>\n",
       "      <td>5</td>\n",
       "      <td>0</td>\n",
       "    </tr>\n",
       "    <tr>\n",
       "      <th>2</th>\n",
       "      <td>732</td>\n",
       "      <td>g***r</td>\n",
       "      <td>0.024390</td>\n",
       "      <td>0.200000</td>\n",
       "      <td>0.0</td>\n",
       "      <td>0.013123</td>\n",
       "      <td>0.000000</td>\n",
       "      <td>0.993593</td>\n",
       "      <td>0.013123</td>\n",
       "      <td>0.944444</td>\n",
       "      <td>5</td>\n",
       "      <td>0</td>\n",
       "    </tr>\n",
       "    <tr>\n",
       "      <th>3</th>\n",
       "      <td>732</td>\n",
       "      <td>t***p</td>\n",
       "      <td>0.142857</td>\n",
       "      <td>0.200000</td>\n",
       "      <td>0.0</td>\n",
       "      <td>0.003042</td>\n",
       "      <td>0.000000</td>\n",
       "      <td>0.993593</td>\n",
       "      <td>0.003042</td>\n",
       "      <td>1.000000</td>\n",
       "      <td>5</td>\n",
       "      <td>0</td>\n",
       "    </tr>\n",
       "    <tr>\n",
       "      <th>4</th>\n",
       "      <td>732</td>\n",
       "      <td>7***n</td>\n",
       "      <td>0.100000</td>\n",
       "      <td>0.200000</td>\n",
       "      <td>0.0</td>\n",
       "      <td>0.097477</td>\n",
       "      <td>0.000000</td>\n",
       "      <td>0.993593</td>\n",
       "      <td>0.097477</td>\n",
       "      <td>1.000000</td>\n",
       "      <td>5</td>\n",
       "      <td>0</td>\n",
       "    </tr>\n",
       "    <tr>\n",
       "      <th>5</th>\n",
       "      <td>900</td>\n",
       "      <td>z***z</td>\n",
       "      <td>0.051282</td>\n",
       "      <td>0.222222</td>\n",
       "      <td>0.0</td>\n",
       "      <td>0.001318</td>\n",
       "      <td>0.000000</td>\n",
       "      <td>0.000000</td>\n",
       "      <td>0.001242</td>\n",
       "      <td>0.500000</td>\n",
       "      <td>7</td>\n",
       "      <td>0</td>\n",
       "    </tr>\n",
       "    <tr>\n",
       "      <th>...</th>\n",
       "      <td>...</td>\n",
       "      <td>...</td>\n",
       "      <td>...</td>\n",
       "      <td>...</td>\n",
       "      <td>...</td>\n",
       "      <td>...</td>\n",
       "      <td>...</td>\n",
       "      <td>...</td>\n",
       "      <td>...</td>\n",
       "      <td>...</td>\n",
       "      <td>...</td>\n",
       "      <td>...</td>\n",
       "    </tr>\n",
       "    <tr>\n",
       "      <th>15129</th>\n",
       "      <td>760</td>\n",
       "      <td>l***t</td>\n",
       "      <td>0.333333</td>\n",
       "      <td>0.160000</td>\n",
       "      <td>1.0</td>\n",
       "      <td>0.738557</td>\n",
       "      <td>0.280000</td>\n",
       "      <td>0.993593</td>\n",
       "      <td>0.686358</td>\n",
       "      <td>0.888889</td>\n",
       "      <td>3</td>\n",
       "      <td>1</td>\n",
       "    </tr>\n",
       "    <tr>\n",
       "      <th>15137</th>\n",
       "      <td>2481</td>\n",
       "      <td>s***s</td>\n",
       "      <td>0.030612</td>\n",
       "      <td>0.130435</td>\n",
       "      <td>0.0</td>\n",
       "      <td>0.005754</td>\n",
       "      <td>0.217391</td>\n",
       "      <td>0.993593</td>\n",
       "      <td>0.000010</td>\n",
       "      <td>0.878788</td>\n",
       "      <td>7</td>\n",
       "      <td>0</td>\n",
       "    </tr>\n",
       "    <tr>\n",
       "      <th>15138</th>\n",
       "      <td>2481</td>\n",
       "      <td>h***t</td>\n",
       "      <td>0.055556</td>\n",
       "      <td>0.043478</td>\n",
       "      <td>0.0</td>\n",
       "      <td>0.015663</td>\n",
       "      <td>0.217391</td>\n",
       "      <td>0.993593</td>\n",
       "      <td>0.015663</td>\n",
       "      <td>0.000000</td>\n",
       "      <td>7</td>\n",
       "      <td>0</td>\n",
       "    </tr>\n",
       "    <tr>\n",
       "      <th>15139</th>\n",
       "      <td>2481</td>\n",
       "      <td>d***d</td>\n",
       "      <td>0.076923</td>\n",
       "      <td>0.086957</td>\n",
       "      <td>0.0</td>\n",
       "      <td>0.068694</td>\n",
       "      <td>0.217391</td>\n",
       "      <td>0.993593</td>\n",
       "      <td>0.000415</td>\n",
       "      <td>0.000000</td>\n",
       "      <td>7</td>\n",
       "      <td>0</td>\n",
       "    </tr>\n",
       "    <tr>\n",
       "      <th>15144</th>\n",
       "      <td>2481</td>\n",
       "      <td>a***l</td>\n",
       "      <td>0.016393</td>\n",
       "      <td>0.043478</td>\n",
       "      <td>0.0</td>\n",
       "      <td>0.340351</td>\n",
       "      <td>0.217391</td>\n",
       "      <td>0.993593</td>\n",
       "      <td>0.340351</td>\n",
       "      <td>0.000000</td>\n",
       "      <td>7</td>\n",
       "      <td>0</td>\n",
       "    </tr>\n",
       "  </tbody>\n",
       "</table>\n",
       "<p>6321 rows × 12 columns</p>\n",
       "</div>"
      ],
      "text/plain": [
       "           Auction_ID Bidder_ID  Bidder_Tendency  Bidding_Ratio  \\\n",
       "Record_ID                                                         \n",
       "1                 732     _***i         0.200000       0.400000   \n",
       "2                 732     g***r         0.024390       0.200000   \n",
       "3                 732     t***p         0.142857       0.200000   \n",
       "4                 732     7***n         0.100000       0.200000   \n",
       "5                 900     z***z         0.051282       0.222222   \n",
       "...               ...       ...              ...            ...   \n",
       "15129             760     l***t         0.333333       0.160000   \n",
       "15137            2481     s***s         0.030612       0.130435   \n",
       "15138            2481     h***t         0.055556       0.043478   \n",
       "15139            2481     d***d         0.076923       0.086957   \n",
       "15144            2481     a***l         0.016393       0.043478   \n",
       "\n",
       "           Successive_Outbidding  Last_Bidding  Auction_Bids  \\\n",
       "Record_ID                                                      \n",
       "1                            0.0      0.000028      0.000000   \n",
       "2                            0.0      0.013123      0.000000   \n",
       "3                            0.0      0.003042      0.000000   \n",
       "4                            0.0      0.097477      0.000000   \n",
       "5                            0.0      0.001318      0.000000   \n",
       "...                          ...           ...           ...   \n",
       "15129                        1.0      0.738557      0.280000   \n",
       "15137                        0.0      0.005754      0.217391   \n",
       "15138                        0.0      0.015663      0.217391   \n",
       "15139                        0.0      0.068694      0.217391   \n",
       "15144                        0.0      0.340351      0.217391   \n",
       "\n",
       "           Starting_Price_Average  Early_Bidding  Winning_Ratio  \\\n",
       "Record_ID                                                         \n",
       "1                        0.993593       0.000028       0.666667   \n",
       "2                        0.993593       0.013123       0.944444   \n",
       "3                        0.993593       0.003042       1.000000   \n",
       "4                        0.993593       0.097477       1.000000   \n",
       "5                        0.000000       0.001242       0.500000   \n",
       "...                           ...            ...            ...   \n",
       "15129                    0.993593       0.686358       0.888889   \n",
       "15137                    0.993593       0.000010       0.878788   \n",
       "15138                    0.993593       0.015663       0.000000   \n",
       "15139                    0.993593       0.000415       0.000000   \n",
       "15144                    0.993593       0.340351       0.000000   \n",
       "\n",
       "           Auction_Duration  Class  \n",
       "Record_ID                           \n",
       "1                         5      0  \n",
       "2                         5      0  \n",
       "3                         5      0  \n",
       "4                         5      0  \n",
       "5                         7      0  \n",
       "...                     ...    ...  \n",
       "15129                     3      1  \n",
       "15137                     7      0  \n",
       "15138                     7      0  \n",
       "15139                     7      0  \n",
       "15144                     7      0  \n",
       "\n",
       "[6321 rows x 12 columns]"
      ]
     },
     "execution_count": 3,
     "metadata": {},
     "output_type": "execute_result"
    }
   ],
   "source": [
    "df"
   ]
  },
  {
   "cell_type": "markdown",
   "id": "64f484d4",
   "metadata": {
    "papermill": {
     "duration": 0.06113,
     "end_time": "2023-04-27T06:47:06.104932",
     "exception": false,
     "start_time": "2023-04-27T06:47:06.043802",
     "status": "completed"
    },
    "tags": []
   },
   "source": [
    "Next, I want to see if we have any missing values and what type of the observations we have. I will use ***.info*** function."
   ]
  },
  {
   "cell_type": "code",
   "execution_count": 4,
   "id": "8e5d18a3",
   "metadata": {
    "execution": {
     "iopub.execute_input": "2023-04-27T06:47:06.231862Z",
     "iopub.status.busy": "2023-04-27T06:47:06.231140Z",
     "iopub.status.idle": "2023-04-27T06:47:06.246403Z",
     "shell.execute_reply": "2023-04-27T06:47:06.246907Z",
     "shell.execute_reply.started": "2023-04-27T06:43:53.354598Z"
    },
    "papermill": {
     "duration": 0.080963,
     "end_time": "2023-04-27T06:47:06.247106",
     "exception": false,
     "start_time": "2023-04-27T06:47:06.166143",
     "status": "completed"
    },
    "tags": []
   },
   "outputs": [
    {
     "name": "stdout",
     "output_type": "stream",
     "text": [
      "<class 'pandas.core.frame.DataFrame'>\n",
      "Int64Index: 6321 entries, 1 to 15144\n",
      "Data columns (total 12 columns):\n",
      " #   Column                  Non-Null Count  Dtype  \n",
      "---  ------                  --------------  -----  \n",
      " 0   Auction_ID              6321 non-null   int64  \n",
      " 1   Bidder_ID               6321 non-null   object \n",
      " 2   Bidder_Tendency         6321 non-null   float64\n",
      " 3   Bidding_Ratio           6321 non-null   float64\n",
      " 4   Successive_Outbidding   6321 non-null   float64\n",
      " 5   Last_Bidding            6321 non-null   float64\n",
      " 6   Auction_Bids            6321 non-null   float64\n",
      " 7   Starting_Price_Average  6321 non-null   float64\n",
      " 8   Early_Bidding           6321 non-null   float64\n",
      " 9   Winning_Ratio           6321 non-null   float64\n",
      " 10  Auction_Duration        6321 non-null   int64  \n",
      " 11  Class                   6321 non-null   int64  \n",
      "dtypes: float64(8), int64(3), object(1)\n",
      "memory usage: 642.0+ KB\n"
     ]
    }
   ],
   "source": [
    "df.info()"
   ]
  },
  {
   "cell_type": "markdown",
   "id": "70a818f2",
   "metadata": {
    "papermill": {
     "duration": 0.060956,
     "end_time": "2023-04-27T06:47:06.369767",
     "exception": false,
     "start_time": "2023-04-27T06:47:06.308811",
     "status": "completed"
    },
    "tags": []
   },
   "source": [
    "We can see that overall the dataset consists of numerical data with one column represented by 'object' data type. Data size is 6321 rows and 12 columns. We also don't observe any missing values, which means we won't have to handle them in the next chapter. \n",
    "\n",
    "Next, I want to extract some statistical information and then get a visual understanding of the data and plot some graphs."
   ]
  },
  {
   "cell_type": "code",
   "execution_count": 5,
   "id": "c13b61d4",
   "metadata": {
    "execution": {
     "iopub.execute_input": "2023-04-27T06:47:06.500512Z",
     "iopub.status.busy": "2023-04-27T06:47:06.499830Z",
     "iopub.status.idle": "2023-04-27T06:47:06.540763Z",
     "shell.execute_reply": "2023-04-27T06:47:06.540061Z",
     "shell.execute_reply.started": "2023-04-27T06:43:53.377725Z"
    },
    "papermill": {
     "duration": 0.108689,
     "end_time": "2023-04-27T06:47:06.540928",
     "exception": false,
     "start_time": "2023-04-27T06:47:06.432239",
     "status": "completed"
    },
    "scrolled": true,
    "tags": []
   },
   "outputs": [
    {
     "data": {
      "text/html": [
       "<div>\n",
       "<style scoped>\n",
       "    .dataframe tbody tr th:only-of-type {\n",
       "        vertical-align: middle;\n",
       "    }\n",
       "\n",
       "    .dataframe tbody tr th {\n",
       "        vertical-align: top;\n",
       "    }\n",
       "\n",
       "    .dataframe thead th {\n",
       "        text-align: right;\n",
       "    }\n",
       "</style>\n",
       "<table border=\"1\" class=\"dataframe\">\n",
       "  <thead>\n",
       "    <tr style=\"text-align: right;\">\n",
       "      <th></th>\n",
       "      <th>Auction_ID</th>\n",
       "      <th>Bidder_Tendency</th>\n",
       "      <th>Bidding_Ratio</th>\n",
       "      <th>Successive_Outbidding</th>\n",
       "      <th>Last_Bidding</th>\n",
       "      <th>Auction_Bids</th>\n",
       "      <th>Starting_Price_Average</th>\n",
       "      <th>Early_Bidding</th>\n",
       "      <th>Winning_Ratio</th>\n",
       "      <th>Auction_Duration</th>\n",
       "      <th>Class</th>\n",
       "    </tr>\n",
       "  </thead>\n",
       "  <tbody>\n",
       "    <tr>\n",
       "      <th>count</th>\n",
       "      <td>6321.000000</td>\n",
       "      <td>6321.000000</td>\n",
       "      <td>6321.000000</td>\n",
       "      <td>6321.000000</td>\n",
       "      <td>6321.000000</td>\n",
       "      <td>6321.000000</td>\n",
       "      <td>6321.000000</td>\n",
       "      <td>6321.000000</td>\n",
       "      <td>6321.000000</td>\n",
       "      <td>6321.000000</td>\n",
       "      <td>6321.000000</td>\n",
       "    </tr>\n",
       "    <tr>\n",
       "      <th>mean</th>\n",
       "      <td>1241.388230</td>\n",
       "      <td>0.142541</td>\n",
       "      <td>0.127670</td>\n",
       "      <td>0.103781</td>\n",
       "      <td>0.463119</td>\n",
       "      <td>0.231606</td>\n",
       "      <td>0.472821</td>\n",
       "      <td>0.430683</td>\n",
       "      <td>0.367731</td>\n",
       "      <td>4.615093</td>\n",
       "      <td>0.106787</td>\n",
       "    </tr>\n",
       "    <tr>\n",
       "      <th>std</th>\n",
       "      <td>735.770789</td>\n",
       "      <td>0.197084</td>\n",
       "      <td>0.131530</td>\n",
       "      <td>0.279698</td>\n",
       "      <td>0.380097</td>\n",
       "      <td>0.255252</td>\n",
       "      <td>0.489912</td>\n",
       "      <td>0.380785</td>\n",
       "      <td>0.436573</td>\n",
       "      <td>2.466629</td>\n",
       "      <td>0.308867</td>\n",
       "    </tr>\n",
       "    <tr>\n",
       "      <th>min</th>\n",
       "      <td>5.000000</td>\n",
       "      <td>0.000000</td>\n",
       "      <td>0.011765</td>\n",
       "      <td>0.000000</td>\n",
       "      <td>0.000000</td>\n",
       "      <td>0.000000</td>\n",
       "      <td>0.000000</td>\n",
       "      <td>0.000000</td>\n",
       "      <td>0.000000</td>\n",
       "      <td>1.000000</td>\n",
       "      <td>0.000000</td>\n",
       "    </tr>\n",
       "    <tr>\n",
       "      <th>25%</th>\n",
       "      <td>589.000000</td>\n",
       "      <td>0.027027</td>\n",
       "      <td>0.043478</td>\n",
       "      <td>0.000000</td>\n",
       "      <td>0.047928</td>\n",
       "      <td>0.000000</td>\n",
       "      <td>0.000000</td>\n",
       "      <td>0.026620</td>\n",
       "      <td>0.000000</td>\n",
       "      <td>3.000000</td>\n",
       "      <td>0.000000</td>\n",
       "    </tr>\n",
       "    <tr>\n",
       "      <th>50%</th>\n",
       "      <td>1246.000000</td>\n",
       "      <td>0.062500</td>\n",
       "      <td>0.083333</td>\n",
       "      <td>0.000000</td>\n",
       "      <td>0.440937</td>\n",
       "      <td>0.142857</td>\n",
       "      <td>0.000000</td>\n",
       "      <td>0.360104</td>\n",
       "      <td>0.000000</td>\n",
       "      <td>5.000000</td>\n",
       "      <td>0.000000</td>\n",
       "    </tr>\n",
       "    <tr>\n",
       "      <th>75%</th>\n",
       "      <td>1867.000000</td>\n",
       "      <td>0.166667</td>\n",
       "      <td>0.166667</td>\n",
       "      <td>0.000000</td>\n",
       "      <td>0.860363</td>\n",
       "      <td>0.454545</td>\n",
       "      <td>0.993593</td>\n",
       "      <td>0.826761</td>\n",
       "      <td>0.851852</td>\n",
       "      <td>7.000000</td>\n",
       "      <td>0.000000</td>\n",
       "    </tr>\n",
       "    <tr>\n",
       "      <th>max</th>\n",
       "      <td>2538.000000</td>\n",
       "      <td>1.000000</td>\n",
       "      <td>1.000000</td>\n",
       "      <td>1.000000</td>\n",
       "      <td>0.999900</td>\n",
       "      <td>0.788235</td>\n",
       "      <td>0.999935</td>\n",
       "      <td>0.999900</td>\n",
       "      <td>1.000000</td>\n",
       "      <td>10.000000</td>\n",
       "      <td>1.000000</td>\n",
       "    </tr>\n",
       "  </tbody>\n",
       "</table>\n",
       "</div>"
      ],
      "text/plain": [
       "        Auction_ID  Bidder_Tendency  Bidding_Ratio  Successive_Outbidding  \\\n",
       "count  6321.000000      6321.000000    6321.000000            6321.000000   \n",
       "mean   1241.388230         0.142541       0.127670               0.103781   \n",
       "std     735.770789         0.197084       0.131530               0.279698   \n",
       "min       5.000000         0.000000       0.011765               0.000000   \n",
       "25%     589.000000         0.027027       0.043478               0.000000   \n",
       "50%    1246.000000         0.062500       0.083333               0.000000   \n",
       "75%    1867.000000         0.166667       0.166667               0.000000   \n",
       "max    2538.000000         1.000000       1.000000               1.000000   \n",
       "\n",
       "       Last_Bidding  Auction_Bids  Starting_Price_Average  Early_Bidding  \\\n",
       "count   6321.000000   6321.000000             6321.000000    6321.000000   \n",
       "mean       0.463119      0.231606                0.472821       0.430683   \n",
       "std        0.380097      0.255252                0.489912       0.380785   \n",
       "min        0.000000      0.000000                0.000000       0.000000   \n",
       "25%        0.047928      0.000000                0.000000       0.026620   \n",
       "50%        0.440937      0.142857                0.000000       0.360104   \n",
       "75%        0.860363      0.454545                0.993593       0.826761   \n",
       "max        0.999900      0.788235                0.999935       0.999900   \n",
       "\n",
       "       Winning_Ratio  Auction_Duration        Class  \n",
       "count    6321.000000       6321.000000  6321.000000  \n",
       "mean        0.367731          4.615093     0.106787  \n",
       "std         0.436573          2.466629     0.308867  \n",
       "min         0.000000          1.000000     0.000000  \n",
       "25%         0.000000          3.000000     0.000000  \n",
       "50%         0.000000          5.000000     0.000000  \n",
       "75%         0.851852          7.000000     0.000000  \n",
       "max         1.000000         10.000000     1.000000  "
      ]
     },
     "execution_count": 5,
     "metadata": {},
     "output_type": "execute_result"
    }
   ],
   "source": [
    "df.describe()"
   ]
  },
  {
   "cell_type": "markdown",
   "id": "21de3c3f",
   "metadata": {
    "papermill": {
     "duration": 0.062556,
     "end_time": "2023-04-27T06:47:06.666902",
     "exception": false,
     "start_time": "2023-04-27T06:47:06.604346",
     "status": "completed"
    },
    "tags": []
   },
   "source": [
    "From the table above we can observe, that values range from 0 to 1 for each feature except **Auction_Duration** and **Auction_ID**. **Last_Bidding** and **Auction_Duration** seem to follow a normal distribution. Also, I can infer that **Winning_Ratio** and **Successive_Outbidding** have lots of observations cluster around either **0** or **1** values. And the dependent variable **Class** is more represented by **0** class than **1** as mean equals 0.1. It means that the data is imbalanced and we will have to decide how to deal with it in the next chapter. \n",
    "Let's see how many observations we have represented for each class."
   ]
  },
  {
   "cell_type": "code",
   "execution_count": 6,
   "id": "684fd41b",
   "metadata": {
    "execution": {
     "iopub.execute_input": "2023-04-27T06:47:06.795241Z",
     "iopub.status.busy": "2023-04-27T06:47:06.794586Z",
     "iopub.status.idle": "2023-04-27T06:47:07.004139Z",
     "shell.execute_reply": "2023-04-27T06:47:07.003593Z",
     "shell.execute_reply.started": "2023-04-27T06:43:53.430711Z"
    },
    "papermill": {
     "duration": 0.274826,
     "end_time": "2023-04-27T06:47:07.004432",
     "exception": false,
     "start_time": "2023-04-27T06:47:06.729606",
     "status": "completed"
    },
    "scrolled": true,
    "tags": []
   },
   "outputs": [
    {
     "data": {
      "image/png": "[encoded data removed]",
      "text/plain": [
       "<Figure size 432x288 with 1 Axes>"
      ]
     },
     "metadata": {
      "needs_background": "light"
     },
     "output_type": "display_data"
    },
    {
     "name": "stdout",
     "output_type": "stream",
     "text": [
      "None\n",
      "0    5646\n",
      "1     675\n",
      "Name: Class, dtype: int64\n"
     ]
    }
   ],
   "source": [
    "sns.countplot(df['Class'])\n",
    "print(plt.show())\n",
    "print(df.Class.value_counts())"
   ]
  },
  {
   "cell_type": "markdown",
   "id": "17ef8393",
   "metadata": {
    "papermill": {
     "duration": 0.064306,
     "end_time": "2023-04-27T06:47:07.132052",
     "exception": false,
     "start_time": "2023-04-27T06:47:07.067746",
     "status": "completed"
    },
    "tags": []
   },
   "source": [
    "With the graph as well as with the ***value_counts*** we can confirm that **0** class has 5646 entries while **1** class has only 675 entries. I will see models' accuracy in the Modeling chapter and if imbalanced classes strongly affect accuracy we will have to balance them."
   ]
  },
  {
   "cell_type": "markdown",
   "id": "5a2836c7",
   "metadata": {
    "papermill": {
     "duration": 0.063432,
     "end_time": "2023-04-27T06:47:07.259396",
     "exception": false,
     "start_time": "2023-04-27T06:47:07.195964",
     "status": "completed"
    },
    "tags": []
   },
   "source": [
    "As the only one object feature we have is a bidder name I want to see if I have any unique values and then decide if we need to keep the feature."
   ]
  },
  {
   "cell_type": "code",
   "execution_count": 7,
   "id": "056b66c1",
   "metadata": {
    "execution": {
     "iopub.execute_input": "2023-04-27T06:47:07.393599Z",
     "iopub.status.busy": "2023-04-27T06:47:07.392901Z",
     "iopub.status.idle": "2023-04-27T06:47:07.399746Z",
     "shell.execute_reply": "2023-04-27T06:47:07.400315Z",
     "shell.execute_reply.started": "2023-04-27T06:43:53.665019Z"
    },
    "papermill": {
     "duration": 0.077974,
     "end_time": "2023-04-27T06:47:07.400511",
     "exception": false,
     "start_time": "2023-04-27T06:47:07.322537",
     "status": "completed"
    },
    "tags": []
   },
   "outputs": [
    {
     "data": {
      "text/plain": [
       "a***a    112\n",
       "n***t     85\n",
       "e***e     67\n",
       "i***a     50\n",
       "r***r     49\n",
       "        ... \n",
       "n***y      1\n",
       "u***z      1\n",
       "t***9      1\n",
       "z***b      1\n",
       "9***7      1\n",
       "Name: Bidder_ID, Length: 1054, dtype: int64"
      ]
     },
     "execution_count": 7,
     "metadata": {},
     "output_type": "execute_result"
    }
   ],
   "source": [
    "df.Bidder_ID.value_counts()"
   ]
  },
  {
   "cell_type": "markdown",
   "id": "d93ee5a2",
   "metadata": {
    "papermill": {
     "duration": 0.062694,
     "end_time": "2023-04-27T06:47:07.527357",
     "exception": false,
     "start_time": "2023-04-27T06:47:07.464663",
     "status": "completed"
    },
    "tags": []
   },
   "source": [
    "We can observe that we have 1054 unique values. We can't really extract any usefull information from it as it's represented by encrypted unique names, therefore I'll simply drop it."
   ]
  },
  {
   "cell_type": "code",
   "execution_count": 8,
   "id": "5f63c6b0",
   "metadata": {
    "execution": {
     "iopub.execute_input": "2023-04-27T06:47:07.657805Z",
     "iopub.status.busy": "2023-04-27T06:47:07.657132Z",
     "iopub.status.idle": "2023-04-27T06:47:07.661659Z",
     "shell.execute_reply": "2023-04-27T06:47:07.662348Z",
     "shell.execute_reply.started": "2023-04-27T06:43:53.677690Z"
    },
    "papermill": {
     "duration": 0.072122,
     "end_time": "2023-04-27T06:47:07.662543",
     "exception": false,
     "start_time": "2023-04-27T06:47:07.590421",
     "status": "completed"
    },
    "tags": []
   },
   "outputs": [],
   "source": [
    "df = df.drop(columns='Bidder_ID')"
   ]
  },
  {
   "cell_type": "markdown",
   "id": "db3f5473",
   "metadata": {
    "papermill": {
     "duration": 0.063957,
     "end_time": "2023-04-27T06:47:07.789662",
     "exception": false,
     "start_time": "2023-04-27T06:47:07.725705",
     "status": "completed"
    },
    "tags": []
   },
   "source": [
    "As we are dealing with a classification problem we don't need to identify correlation between variables."
   ]
  },
  {
   "cell_type": "markdown",
   "id": "4dfd9c1e",
   "metadata": {
    "papermill": {
     "duration": 0.089291,
     "end_time": "2023-04-27T06:47:07.976102",
     "exception": false,
     "start_time": "2023-04-27T06:47:07.886811",
     "status": "completed"
    },
    "tags": []
   },
   "source": [
    "I also want to take a look at boxplots for each variable to get a better understanding of distribution and outliers."
   ]
  },
  {
   "cell_type": "code",
   "execution_count": 9,
   "id": "b7416642",
   "metadata": {
    "execution": {
     "iopub.execute_input": "2023-04-27T06:47:08.124360Z",
     "iopub.status.busy": "2023-04-27T06:47:08.123609Z",
     "iopub.status.idle": "2023-04-27T06:47:09.191651Z",
     "shell.execute_reply": "2023-04-27T06:47:09.190950Z",
     "shell.execute_reply.started": "2023-04-27T06:43:53.692766Z"
    },
    "papermill": {
     "duration": 1.151695,
     "end_time": "2023-04-27T06:47:09.191829",
     "exception": false,
     "start_time": "2023-04-27T06:47:08.040134",
     "status": "completed"
    },
    "scrolled": true,
    "tags": []
   },
   "outputs": [
    {
     "data": {
      "image/png": "[encoded data removed]",
      "text/plain": [
       "<Figure size 720x720 with 12 Axes>"
      ]
     },
     "metadata": {
      "needs_background": "light"
     },
     "output_type": "display_data"
    }
   ],
   "source": [
    "df.drop('Class', axis=1).plot(kind='box', subplots=True, layout=(6,2), sharex=False, sharey=False, figsize=(10,10), title='Box Plot for each input variable')\n",
    "plt.show()"
   ]
  },
  {
   "cell_type": "markdown",
   "id": "287ebee3",
   "metadata": {
    "papermill": {
     "duration": 0.064033,
     "end_time": "2023-04-27T06:47:09.321423",
     "exception": false,
     "start_time": "2023-04-27T06:47:09.257390",
     "status": "completed"
    },
    "tags": []
   },
   "source": [
    "**Bidder_Tendency** and **Bidding_Ratio** have many outliers. We will discuss in the next chapter if we need to remove them. **Auction_ID**, **Last_Bidding**, **Early_Bidding** and **Auction_Duration** seem to follow normal distribution. We infered earlier that **Winning_Ratio** and **Starting_Price_Average** have values mostly clustered around **0** and **1**. **Successive_Outbidding** boxplot looks interesting, as it shows that we migh have outliers. I am going to plot density graphs for these 3 features to get a better visual comprehension."
   ]
  },
  {
   "cell_type": "code",
   "execution_count": 10,
   "id": "57d93958",
   "metadata": {
    "execution": {
     "iopub.execute_input": "2023-04-27T06:47:09.475820Z",
     "iopub.status.busy": "2023-04-27T06:47:09.475111Z",
     "iopub.status.idle": "2023-04-27T06:47:09.805318Z",
     "shell.execute_reply": "2023-04-27T06:47:09.805847Z",
     "shell.execute_reply.started": "2023-04-27T06:43:54.860121Z"
    },
    "papermill": {
     "duration": 0.419553,
     "end_time": "2023-04-27T06:47:09.806032",
     "exception": false,
     "start_time": "2023-04-27T06:47:09.386479",
     "status": "completed"
    },
    "tags": []
   },
   "outputs": [
    {
     "name": "stdout",
     "output_type": "stream",
     "text": [
      "AxesSubplot(0.125,0.125;0.775x0.755)\n",
      "AxesSubplot(0.125,0.125;0.775x0.755)\n",
      "AxesSubplot(0.125,0.125;0.775x0.755)\n"
     ]
    },
    {
     "data": {
      "text/plain": [
       "Text(0, 0.5, 'Probability Density')"
      ]
     },
     "execution_count": 10,
     "metadata": {},
     "output_type": "execute_result"
    },
    {
     "data": {
      "image/png": "[encoded data removed]",
      "text/plain": [
       "<Figure size 432x288 with 1 Axes>"
      ]
     },
     "metadata": {
      "needs_background": "light"
     },
     "output_type": "display_data"
    }
   ],
   "source": [
    "print(sns.kdeplot(data=df, x='Winning_Ratio', color='r', shade=True))\n",
    "print(sns.kdeplot(data=df, x='Starting_Price_Average', color='y', shade=True))\n",
    "print(sns.kdeplot(data=df, x='Successive_Outbidding', color='b', shade=True))\n",
    "\n",
    "plt.xlabel('KDE')\n",
    "plt.ylabel('Probability Density')"
   ]
  },
  {
   "cell_type": "markdown",
   "id": "a910a3cf",
   "metadata": {
    "papermill": {
     "duration": 0.06768,
     "end_time": "2023-04-27T06:47:09.940877",
     "exception": false,
     "start_time": "2023-04-27T06:47:09.873197",
     "status": "completed"
    },
    "tags": []
   },
   "source": [
    "With the graph we can confirm the statement we made above. As for **Successive_Outbidding** variable, it's not ouliers but data is represented by only 3 values **0**, **0.5** and **1**. As number of **0** values are drastically higher than **0.5** and **1** it shows the values as outliers."
   ]
  },
  {
   "cell_type": "code",
   "execution_count": 11,
   "id": "62c70196",
   "metadata": {
    "execution": {
     "iopub.execute_input": "2023-04-27T06:47:10.082573Z",
     "iopub.status.busy": "2023-04-27T06:47:10.081817Z",
     "iopub.status.idle": "2023-04-27T06:47:10.269972Z",
     "shell.execute_reply": "2023-04-27T06:47:10.269415Z",
     "shell.execute_reply.started": "2023-04-27T06:43:55.244228Z"
    },
    "papermill": {
     "duration": 0.262892,
     "end_time": "2023-04-27T06:47:10.270119",
     "exception": false,
     "start_time": "2023-04-27T06:47:10.007227",
     "status": "completed"
    },
    "tags": []
   },
   "outputs": [
    {
     "name": "stdout",
     "output_type": "stream",
     "text": [
      "0.0    5478\n",
      "1.0     469\n",
      "0.5     374\n",
      "Name: Successive_Outbidding, dtype: int64\n",
      "count    6321.000000\n",
      "mean        0.103781\n",
      "std         0.279698\n",
      "min         0.000000\n",
      "25%         0.000000\n",
      "50%         0.000000\n",
      "75%         0.000000\n",
      "max         1.000000\n",
      "Name: Successive_Outbidding, dtype: float64\n",
      "AxesSubplot(0.125,0.125;0.775x0.755)\n"
     ]
    },
    {
     "data": {
      "image/png": "[encoded data removed]",
      "text/plain": [
       "<Figure size 432x288 with 1 Axes>"
      ]
     },
     "metadata": {
      "needs_background": "light"
     },
     "output_type": "display_data"
    }
   ],
   "source": [
    "print(df.Successive_Outbidding.value_counts())\n",
    "print(df.Successive_Outbidding.describe())\n",
    "print(sns.boxplot(data=df, x='Successive_Outbidding'))"
   ]
  },
  {
   "cell_type": "markdown",
   "id": "c4ae2f49",
   "metadata": {
    "papermill": {
     "duration": 0.066595,
     "end_time": "2023-04-27T06:47:10.404439",
     "exception": false,
     "start_time": "2023-04-27T06:47:10.337844",
     "status": "completed"
    },
    "tags": []
   },
   "source": [
    "We've prepared everything we needed and now can move to another stage **Data preparation**."
   ]
  },
  {
   "cell_type": "markdown",
   "id": "e72ce1cf",
   "metadata": {
    "papermill": {
     "duration": 0.066969,
     "end_time": "2023-04-27T06:47:10.538228",
     "exception": false,
     "start_time": "2023-04-27T06:47:10.471259",
     "status": "completed"
    },
    "tags": []
   },
   "source": [
    "### 3. Data Preparation"
   ]
  },
  {
   "cell_type": "markdown",
   "id": "f2bfd1fe",
   "metadata": {
    "papermill": {
     "duration": 0.06665,
     "end_time": "2023-04-27T06:47:10.672039",
     "exception": false,
     "start_time": "2023-04-27T06:47:10.605389",
     "status": "completed"
    },
    "tags": []
   },
   "source": [
    "This stage, which is often referred to as “data wrangling” or “data munging”, has the objective is to develop the final data set for modelling. Covers all activities to construct the final dataset from the initial raw data. Data preparation tasks are likely to be performed multiple times and not in any prescribed order. Tasks include table, record and attribute selection as well as transformation and cleaning of data for modelling tools."
   ]
  },
  {
   "cell_type": "markdown",
   "id": "24dcd931",
   "metadata": {
    "papermill": {
     "duration": 0.066069,
     "end_time": "2023-04-27T06:47:10.805113",
     "exception": false,
     "start_time": "2023-04-27T06:47:10.739044",
     "status": "completed"
    },
    "tags": []
   },
   "source": [
    "I'll start the Data Preparation section with normalization. Normalization typically means rescaling the values into a range of [0,1]. \n",
    "When we have all features normalized within one range it will help ML models run faster and with the better accuracy.\n",
    "The reason why I'll be using normalization is that most of the features are already ranged between 0 and 1 except **Auction_ID** and **Auction_Duration**, therefore I will scale only these two features."
   ]
  },
  {
   "cell_type": "code",
   "execution_count": 12,
   "id": "7b389c7a",
   "metadata": {
    "execution": {
     "iopub.execute_input": "2023-04-27T06:47:10.949266Z",
     "iopub.status.busy": "2023-04-27T06:47:10.948578Z",
     "iopub.status.idle": "2023-04-27T06:47:10.950824Z",
     "shell.execute_reply": "2023-04-27T06:47:10.951336Z",
     "shell.execute_reply.started": "2023-04-27T06:43:55.462367Z"
    },
    "papermill": {
     "duration": 0.079622,
     "end_time": "2023-04-27T06:47:10.951524",
     "exception": false,
     "start_time": "2023-04-27T06:47:10.871902",
     "status": "completed"
    },
    "tags": []
   },
   "outputs": [],
   "source": [
    "df1 = df[['Auction_ID','Auction_Duration']]\n",
    "df2 = df.drop(columns = ['Auction_ID','Auction_Duration'])\n",
    "minmax = MinMaxScaler().fit(df1)\n",
    "minmax = minmax.transform(df1)"
   ]
  },
  {
   "cell_type": "markdown",
   "id": "159803bb",
   "metadata": {
    "papermill": {
     "duration": 0.066789,
     "end_time": "2023-04-27T06:47:11.086527",
     "exception": false,
     "start_time": "2023-04-27T06:47:11.019738",
     "status": "completed"
    },
    "tags": []
   },
   "source": [
    "After I've applied the scaler I want to record the scaled array in DataFrame and then combine in one DataFrame."
   ]
  },
  {
   "cell_type": "code",
   "execution_count": 13,
   "id": "216fca25",
   "metadata": {
    "execution": {
     "iopub.execute_input": "2023-04-27T06:47:11.226898Z",
     "iopub.status.busy": "2023-04-27T06:47:11.226253Z",
     "iopub.status.idle": "2023-04-27T06:47:11.230814Z",
     "shell.execute_reply": "2023-04-27T06:47:11.231299Z",
     "shell.execute_reply.started": "2023-04-27T06:43:55.479069Z"
    },
    "papermill": {
     "duration": 0.074423,
     "end_time": "2023-04-27T06:47:11.231481",
     "exception": false,
     "start_time": "2023-04-27T06:47:11.157058",
     "status": "completed"
    },
    "tags": []
   },
   "outputs": [],
   "source": [
    "df2 = df2.reset_index()"
   ]
  },
  {
   "cell_type": "code",
   "execution_count": 14,
   "id": "ee76817e",
   "metadata": {
    "execution": {
     "iopub.execute_input": "2023-04-27T06:47:11.370343Z",
     "iopub.status.busy": "2023-04-27T06:47:11.369623Z",
     "iopub.status.idle": "2023-04-27T06:47:11.382298Z",
     "shell.execute_reply": "2023-04-27T06:47:11.381665Z",
     "shell.execute_reply.started": "2023-04-27T06:43:55.498281Z"
    },
    "papermill": {
     "duration": 0.084181,
     "end_time": "2023-04-27T06:47:11.382454",
     "exception": false,
     "start_time": "2023-04-27T06:47:11.298273",
     "status": "completed"
    },
    "tags": []
   },
   "outputs": [
    {
     "data": {
      "text/html": [
       "<div>\n",
       "<style scoped>\n",
       "    .dataframe tbody tr th:only-of-type {\n",
       "        vertical-align: middle;\n",
       "    }\n",
       "\n",
       "    .dataframe tbody tr th {\n",
       "        vertical-align: top;\n",
       "    }\n",
       "\n",
       "    .dataframe thead th {\n",
       "        text-align: right;\n",
       "    }\n",
       "</style>\n",
       "<table border=\"1\" class=\"dataframe\">\n",
       "  <thead>\n",
       "    <tr style=\"text-align: right;\">\n",
       "      <th></th>\n",
       "      <th>Auction_ID</th>\n",
       "      <th>Auction_Duration</th>\n",
       "    </tr>\n",
       "  </thead>\n",
       "  <tbody>\n",
       "    <tr>\n",
       "      <th>0</th>\n",
       "      <td>0.287011</td>\n",
       "      <td>0.444444</td>\n",
       "    </tr>\n",
       "    <tr>\n",
       "      <th>1</th>\n",
       "      <td>0.287011</td>\n",
       "      <td>0.444444</td>\n",
       "    </tr>\n",
       "    <tr>\n",
       "      <th>2</th>\n",
       "      <td>0.287011</td>\n",
       "      <td>0.444444</td>\n",
       "    </tr>\n",
       "    <tr>\n",
       "      <th>3</th>\n",
       "      <td>0.287011</td>\n",
       "      <td>0.444444</td>\n",
       "    </tr>\n",
       "    <tr>\n",
       "      <th>4</th>\n",
       "      <td>0.353336</td>\n",
       "      <td>0.666667</td>\n",
       "    </tr>\n",
       "    <tr>\n",
       "      <th>...</th>\n",
       "      <td>...</td>\n",
       "      <td>...</td>\n",
       "    </tr>\n",
       "    <tr>\n",
       "      <th>6316</th>\n",
       "      <td>0.298066</td>\n",
       "      <td>0.222222</td>\n",
       "    </tr>\n",
       "    <tr>\n",
       "      <th>6317</th>\n",
       "      <td>0.977497</td>\n",
       "      <td>0.666667</td>\n",
       "    </tr>\n",
       "    <tr>\n",
       "      <th>6318</th>\n",
       "      <td>0.977497</td>\n",
       "      <td>0.666667</td>\n",
       "    </tr>\n",
       "    <tr>\n",
       "      <th>6319</th>\n",
       "      <td>0.977497</td>\n",
       "      <td>0.666667</td>\n",
       "    </tr>\n",
       "    <tr>\n",
       "      <th>6320</th>\n",
       "      <td>0.977497</td>\n",
       "      <td>0.666667</td>\n",
       "    </tr>\n",
       "  </tbody>\n",
       "</table>\n",
       "<p>6321 rows × 2 columns</p>\n",
       "</div>"
      ],
      "text/plain": [
       "      Auction_ID  Auction_Duration\n",
       "0       0.287011          0.444444\n",
       "1       0.287011          0.444444\n",
       "2       0.287011          0.444444\n",
       "3       0.287011          0.444444\n",
       "4       0.353336          0.666667\n",
       "...          ...               ...\n",
       "6316    0.298066          0.222222\n",
       "6317    0.977497          0.666667\n",
       "6318    0.977497          0.666667\n",
       "6319    0.977497          0.666667\n",
       "6320    0.977497          0.666667\n",
       "\n",
       "[6321 rows x 2 columns]"
      ]
     },
     "execution_count": 14,
     "metadata": {},
     "output_type": "execute_result"
    }
   ],
   "source": [
    "df1 = pd.DataFrame(minmax, columns = ['Auction_ID','Auction_Duration'])\n",
    "df1"
   ]
  },
  {
   "cell_type": "code",
   "execution_count": 15,
   "id": "d106f0bb",
   "metadata": {
    "execution": {
     "iopub.execute_input": "2023-04-27T06:47:11.528830Z",
     "iopub.status.busy": "2023-04-27T06:47:11.527738Z",
     "iopub.status.idle": "2023-04-27T06:47:11.548134Z",
     "shell.execute_reply": "2023-04-27T06:47:11.548687Z",
     "shell.execute_reply.started": "2023-04-27T06:43:55.518804Z"
    },
    "papermill": {
     "duration": 0.096906,
     "end_time": "2023-04-27T06:47:11.548881",
     "exception": false,
     "start_time": "2023-04-27T06:47:11.451975",
     "status": "completed"
    },
    "tags": []
   },
   "outputs": [
    {
     "data": {
      "text/html": [
       "<div>\n",
       "<style scoped>\n",
       "    .dataframe tbody tr th:only-of-type {\n",
       "        vertical-align: middle;\n",
       "    }\n",
       "\n",
       "    .dataframe tbody tr th {\n",
       "        vertical-align: top;\n",
       "    }\n",
       "\n",
       "    .dataframe thead th {\n",
       "        text-align: right;\n",
       "    }\n",
       "</style>\n",
       "<table border=\"1\" class=\"dataframe\">\n",
       "  <thead>\n",
       "    <tr style=\"text-align: right;\">\n",
       "      <th></th>\n",
       "      <th>Auction_ID</th>\n",
       "      <th>Auction_Duration</th>\n",
       "      <th>Bidder_Tendency</th>\n",
       "      <th>Bidding_Ratio</th>\n",
       "      <th>Successive_Outbidding</th>\n",
       "      <th>Last_Bidding</th>\n",
       "      <th>Auction_Bids</th>\n",
       "      <th>Starting_Price_Average</th>\n",
       "      <th>Early_Bidding</th>\n",
       "      <th>Winning_Ratio</th>\n",
       "      <th>Class</th>\n",
       "    </tr>\n",
       "    <tr>\n",
       "      <th>Record_ID</th>\n",
       "      <th></th>\n",
       "      <th></th>\n",
       "      <th></th>\n",
       "      <th></th>\n",
       "      <th></th>\n",
       "      <th></th>\n",
       "      <th></th>\n",
       "      <th></th>\n",
       "      <th></th>\n",
       "      <th></th>\n",
       "      <th></th>\n",
       "    </tr>\n",
       "  </thead>\n",
       "  <tbody>\n",
       "    <tr>\n",
       "      <th>1</th>\n",
       "      <td>0.287011</td>\n",
       "      <td>0.444444</td>\n",
       "      <td>0.200000</td>\n",
       "      <td>0.400000</td>\n",
       "      <td>0.0</td>\n",
       "      <td>0.000028</td>\n",
       "      <td>0.000000</td>\n",
       "      <td>0.993593</td>\n",
       "      <td>0.000028</td>\n",
       "      <td>0.666667</td>\n",
       "      <td>0</td>\n",
       "    </tr>\n",
       "    <tr>\n",
       "      <th>2</th>\n",
       "      <td>0.287011</td>\n",
       "      <td>0.444444</td>\n",
       "      <td>0.024390</td>\n",
       "      <td>0.200000</td>\n",
       "      <td>0.0</td>\n",
       "      <td>0.013123</td>\n",
       "      <td>0.000000</td>\n",
       "      <td>0.993593</td>\n",
       "      <td>0.013123</td>\n",
       "      <td>0.944444</td>\n",
       "      <td>0</td>\n",
       "    </tr>\n",
       "    <tr>\n",
       "      <th>3</th>\n",
       "      <td>0.287011</td>\n",
       "      <td>0.444444</td>\n",
       "      <td>0.142857</td>\n",
       "      <td>0.200000</td>\n",
       "      <td>0.0</td>\n",
       "      <td>0.003042</td>\n",
       "      <td>0.000000</td>\n",
       "      <td>0.993593</td>\n",
       "      <td>0.003042</td>\n",
       "      <td>1.000000</td>\n",
       "      <td>0</td>\n",
       "    </tr>\n",
       "    <tr>\n",
       "      <th>4</th>\n",
       "      <td>0.287011</td>\n",
       "      <td>0.444444</td>\n",
       "      <td>0.100000</td>\n",
       "      <td>0.200000</td>\n",
       "      <td>0.0</td>\n",
       "      <td>0.097477</td>\n",
       "      <td>0.000000</td>\n",
       "      <td>0.993593</td>\n",
       "      <td>0.097477</td>\n",
       "      <td>1.000000</td>\n",
       "      <td>0</td>\n",
       "    </tr>\n",
       "    <tr>\n",
       "      <th>5</th>\n",
       "      <td>0.353336</td>\n",
       "      <td>0.666667</td>\n",
       "      <td>0.051282</td>\n",
       "      <td>0.222222</td>\n",
       "      <td>0.0</td>\n",
       "      <td>0.001318</td>\n",
       "      <td>0.000000</td>\n",
       "      <td>0.000000</td>\n",
       "      <td>0.001242</td>\n",
       "      <td>0.500000</td>\n",
       "      <td>0</td>\n",
       "    </tr>\n",
       "    <tr>\n",
       "      <th>...</th>\n",
       "      <td>...</td>\n",
       "      <td>...</td>\n",
       "      <td>...</td>\n",
       "      <td>...</td>\n",
       "      <td>...</td>\n",
       "      <td>...</td>\n",
       "      <td>...</td>\n",
       "      <td>...</td>\n",
       "      <td>...</td>\n",
       "      <td>...</td>\n",
       "      <td>...</td>\n",
       "    </tr>\n",
       "    <tr>\n",
       "      <th>15129</th>\n",
       "      <td>0.298066</td>\n",
       "      <td>0.222222</td>\n",
       "      <td>0.333333</td>\n",
       "      <td>0.160000</td>\n",
       "      <td>1.0</td>\n",
       "      <td>0.738557</td>\n",
       "      <td>0.280000</td>\n",
       "      <td>0.993593</td>\n",
       "      <td>0.686358</td>\n",
       "      <td>0.888889</td>\n",
       "      <td>1</td>\n",
       "    </tr>\n",
       "    <tr>\n",
       "      <th>15137</th>\n",
       "      <td>0.977497</td>\n",
       "      <td>0.666667</td>\n",
       "      <td>0.030612</td>\n",
       "      <td>0.130435</td>\n",
       "      <td>0.0</td>\n",
       "      <td>0.005754</td>\n",
       "      <td>0.217391</td>\n",
       "      <td>0.993593</td>\n",
       "      <td>0.000010</td>\n",
       "      <td>0.878788</td>\n",
       "      <td>0</td>\n",
       "    </tr>\n",
       "    <tr>\n",
       "      <th>15138</th>\n",
       "      <td>0.977497</td>\n",
       "      <td>0.666667</td>\n",
       "      <td>0.055556</td>\n",
       "      <td>0.043478</td>\n",
       "      <td>0.0</td>\n",
       "      <td>0.015663</td>\n",
       "      <td>0.217391</td>\n",
       "      <td>0.993593</td>\n",
       "      <td>0.015663</td>\n",
       "      <td>0.000000</td>\n",
       "      <td>0</td>\n",
       "    </tr>\n",
       "    <tr>\n",
       "      <th>15139</th>\n",
       "      <td>0.977497</td>\n",
       "      <td>0.666667</td>\n",
       "      <td>0.076923</td>\n",
       "      <td>0.086957</td>\n",
       "      <td>0.0</td>\n",
       "      <td>0.068694</td>\n",
       "      <td>0.217391</td>\n",
       "      <td>0.993593</td>\n",
       "      <td>0.000415</td>\n",
       "      <td>0.000000</td>\n",
       "      <td>0</td>\n",
       "    </tr>\n",
       "    <tr>\n",
       "      <th>15144</th>\n",
       "      <td>0.977497</td>\n",
       "      <td>0.666667</td>\n",
       "      <td>0.016393</td>\n",
       "      <td>0.043478</td>\n",
       "      <td>0.0</td>\n",
       "      <td>0.340351</td>\n",
       "      <td>0.217391</td>\n",
       "      <td>0.993593</td>\n",
       "      <td>0.340351</td>\n",
       "      <td>0.000000</td>\n",
       "      <td>0</td>\n",
       "    </tr>\n",
       "  </tbody>\n",
       "</table>\n",
       "<p>6321 rows × 11 columns</p>\n",
       "</div>"
      ],
      "text/plain": [
       "           Auction_ID  Auction_Duration  Bidder_Tendency  Bidding_Ratio  \\\n",
       "Record_ID                                                                 \n",
       "1            0.287011          0.444444         0.200000       0.400000   \n",
       "2            0.287011          0.444444         0.024390       0.200000   \n",
       "3            0.287011          0.444444         0.142857       0.200000   \n",
       "4            0.287011          0.444444         0.100000       0.200000   \n",
       "5            0.353336          0.666667         0.051282       0.222222   \n",
       "...               ...               ...              ...            ...   \n",
       "15129        0.298066          0.222222         0.333333       0.160000   \n",
       "15137        0.977497          0.666667         0.030612       0.130435   \n",
       "15138        0.977497          0.666667         0.055556       0.043478   \n",
       "15139        0.977497          0.666667         0.076923       0.086957   \n",
       "15144        0.977497          0.666667         0.016393       0.043478   \n",
       "\n",
       "           Successive_Outbidding  Last_Bidding  Auction_Bids  \\\n",
       "Record_ID                                                      \n",
       "1                            0.0      0.000028      0.000000   \n",
       "2                            0.0      0.013123      0.000000   \n",
       "3                            0.0      0.003042      0.000000   \n",
       "4                            0.0      0.097477      0.000000   \n",
       "5                            0.0      0.001318      0.000000   \n",
       "...                          ...           ...           ...   \n",
       "15129                        1.0      0.738557      0.280000   \n",
       "15137                        0.0      0.005754      0.217391   \n",
       "15138                        0.0      0.015663      0.217391   \n",
       "15139                        0.0      0.068694      0.217391   \n",
       "15144                        0.0      0.340351      0.217391   \n",
       "\n",
       "           Starting_Price_Average  Early_Bidding  Winning_Ratio  Class  \n",
       "Record_ID                                                               \n",
       "1                        0.993593       0.000028       0.666667      0  \n",
       "2                        0.993593       0.013123       0.944444      0  \n",
       "3                        0.993593       0.003042       1.000000      0  \n",
       "4                        0.993593       0.097477       1.000000      0  \n",
       "5                        0.000000       0.001242       0.500000      0  \n",
       "...                           ...            ...            ...    ...  \n",
       "15129                    0.993593       0.686358       0.888889      1  \n",
       "15137                    0.993593       0.000010       0.878788      0  \n",
       "15138                    0.993593       0.015663       0.000000      0  \n",
       "15139                    0.993593       0.000415       0.000000      0  \n",
       "15144                    0.993593       0.340351       0.000000      0  \n",
       "\n",
       "[6321 rows x 11 columns]"
      ]
     },
     "execution_count": 15,
     "metadata": {},
     "output_type": "execute_result"
    }
   ],
   "source": [
    "df = df1.join(df2, how='outer')\n",
    "index = df2['Record_ID']\n",
    "df = df.set_index('Record_ID')\n",
    "df"
   ]
  },
  {
   "cell_type": "markdown",
   "id": "db6457fc",
   "metadata": {
    "papermill": {
     "duration": 0.067488,
     "end_time": "2023-04-27T06:47:11.684156",
     "exception": false,
     "start_time": "2023-04-27T06:47:11.616668",
     "status": "completed"
    },
    "tags": []
   },
   "source": [
    "Finally, we've got the DataFrame with all feature ranged with the same range [0,1]. "
   ]
  },
  {
   "cell_type": "markdown",
   "id": "f5b8db18",
   "metadata": {
    "papermill": {
     "duration": 0.067162,
     "end_time": "2023-04-27T06:47:11.818813",
     "exception": false,
     "start_time": "2023-04-27T06:47:11.751651",
     "status": "completed"
    },
    "tags": []
   },
   "source": [
    "#### Features importances"
   ]
  },
  {
   "cell_type": "markdown",
   "id": "7ae2ac4b",
   "metadata": {
    "papermill": {
     "duration": 0.067778,
     "end_time": "2023-04-27T06:47:11.953995",
     "exception": false,
     "start_time": "2023-04-27T06:47:11.886217",
     "status": "completed"
    },
    "tags": []
   },
   "source": [
    "As a part of my business understanding part I've defined a question I would like to get an answer *'What features are the most important for bidding class prediction?'*\n",
    "In order to get an answer on the question I'll be using the ***DecisionTreeClassifier*** which will range fetures by their importance.\n",
    "Feature importance is calculated as the decrease in node impurity weighted by the probability of reaching that node. The node probability can be calculated by the number of samples that reach the node, divided by the total number of samples. The higher the value the more important the feature. (Ronaghan, 2018)"
   ]
  },
  {
   "cell_type": "markdown",
   "id": "e4cc5344",
   "metadata": {
    "papermill": {
     "duration": 0.067915,
     "end_time": "2023-04-27T06:47:12.089450",
     "exception": false,
     "start_time": "2023-04-27T06:47:12.021535",
     "status": "completed"
    },
    "tags": []
   },
   "source": [
    "As a first step of defining features importances I'll separate independent variables from the dependent variable."
   ]
  },
  {
   "cell_type": "code",
   "execution_count": 16,
   "id": "9cd2a7d5",
   "metadata": {
    "execution": {
     "iopub.execute_input": "2023-04-27T06:47:12.232012Z",
     "iopub.status.busy": "2023-04-27T06:47:12.231272Z",
     "iopub.status.idle": "2023-04-27T06:47:12.232983Z",
     "shell.execute_reply": "2023-04-27T06:47:12.233483Z",
     "shell.execute_reply.started": "2023-04-27T06:43:55.554503Z"
    },
    "papermill": {
     "duration": 0.076776,
     "end_time": "2023-04-27T06:47:12.233671",
     "exception": false,
     "start_time": "2023-04-27T06:47:12.156895",
     "status": "completed"
    },
    "tags": []
   },
   "outputs": [],
   "source": [
    "X = df.drop(columns = 'Class')\n",
    "y = df['Class']"
   ]
  },
  {
   "cell_type": "markdown",
   "id": "d54f8390",
   "metadata": {
    "papermill": {
     "duration": 0.06758,
     "end_time": "2023-04-27T06:47:12.369744",
     "exception": false,
     "start_time": "2023-04-27T06:47:12.302164",
     "status": "completed"
    },
    "tags": []
   },
   "source": [
    "Next, I'll run the DecisionTreeClassifier."
   ]
  },
  {
   "cell_type": "code",
   "execution_count": 17,
   "id": "b27f3a52",
   "metadata": {
    "execution": {
     "iopub.execute_input": "2023-04-27T06:47:12.509977Z",
     "iopub.status.busy": "2023-04-27T06:47:12.509237Z",
     "iopub.status.idle": "2023-04-27T06:47:12.531228Z",
     "shell.execute_reply": "2023-04-27T06:47:12.531799Z",
     "shell.execute_reply.started": "2023-04-27T06:43:55.564536Z"
    },
    "papermill": {
     "duration": 0.09315,
     "end_time": "2023-04-27T06:47:12.531978",
     "exception": false,
     "start_time": "2023-04-27T06:47:12.438828",
     "status": "completed"
    },
    "tags": []
   },
   "outputs": [
    {
     "data": {
      "text/plain": [
       "DecisionTreeClassifier()"
      ]
     },
     "execution_count": 17,
     "metadata": {},
     "output_type": "execute_result"
    }
   ],
   "source": [
    "cls = DecisionTreeClassifier()\n",
    "cls.fit(X, y)"
   ]
  },
  {
   "cell_type": "code",
   "execution_count": 18,
   "id": "098b4f47",
   "metadata": {
    "execution": {
     "iopub.execute_input": "2023-04-27T06:47:12.671887Z",
     "iopub.status.busy": "2023-04-27T06:47:12.671202Z",
     "iopub.status.idle": "2023-04-27T06:47:12.676754Z",
     "shell.execute_reply": "2023-04-27T06:47:12.677364Z",
     "shell.execute_reply.started": "2023-04-27T06:43:55.597051Z"
    },
    "papermill": {
     "duration": 0.07696,
     "end_time": "2023-04-27T06:47:12.677532",
     "exception": false,
     "start_time": "2023-04-27T06:47:12.600572",
     "status": "completed"
    },
    "tags": []
   },
   "outputs": [
    {
     "data": {
      "text/plain": [
       "Index(['Auction_ID', 'Auction_Duration', 'Bidder_Tendency', 'Bidding_Ratio',\n",
       "       'Successive_Outbidding', 'Last_Bidding', 'Auction_Bids',\n",
       "       'Starting_Price_Average', 'Early_Bidding', 'Winning_Ratio'],\n",
       "      dtype='object')"
      ]
     },
     "execution_count": 18,
     "metadata": {},
     "output_type": "execute_result"
    }
   ],
   "source": [
    "importances = cls.feature_importances_\n",
    "columns = X.columns\n",
    "columns"
   ]
  },
  {
   "cell_type": "markdown",
   "id": "d329d6bd",
   "metadata": {
    "papermill": {
     "duration": 0.067842,
     "end_time": "2023-04-27T06:47:12.813863",
     "exception": false,
     "start_time": "2023-04-27T06:47:12.746021",
     "status": "completed"
    },
    "tags": []
   },
   "source": [
    "I want to plot a graph to display features importances in descending order."
   ]
  },
  {
   "cell_type": "code",
   "execution_count": 19,
   "id": "2a1312d5",
   "metadata": {
    "execution": {
     "iopub.execute_input": "2023-04-27T06:47:12.954837Z",
     "iopub.status.busy": "2023-04-27T06:47:12.953780Z",
     "iopub.status.idle": "2023-04-27T06:47:14.104887Z",
     "shell.execute_reply": "2023-04-27T06:47:14.105414Z",
     "shell.execute_reply.started": "2023-04-27T06:43:55.607134Z"
    },
    "papermill": {
     "duration": 1.22228,
     "end_time": "2023-04-27T06:47:14.105593",
     "exception": false,
     "start_time": "2023-04-27T06:47:12.883313",
     "status": "completed"
    },
    "tags": []
   },
   "outputs": [
    {
     "data": {
      "text/plain": [
       "Text(0, 0.5, 'Percentage of importances')"
      ]
     },
     "execution_count": 19,
     "metadata": {},
     "output_type": "execute_result"
    },
    {
     "data": {
      "image/png": "[encoded data removed]",
      "text/plain": [
       "<Figure size 4320x2160 with 1 Axes>"
      ]
     },
     "metadata": {
      "needs_background": "light"
     },
     "output_type": "display_data"
    }
   ],
   "source": [
    "df_import = pd.DataFrame(importances, columns = ['Feature importances'], index=columns)\n",
    "df_import['Percentage'] = pd.DataFrame((df_import.sort_values(by= ['Feature importances'], ascending=False)/df_import.shape[0])*100)\n",
    "pd.options.display.float_format = \"{:.2f}\".format \n",
    "df_import=df_import.sort_values(by= ['Percentage'], ascending=False)\n",
    "\n",
    "# plotting features importances\n",
    "g = df_import['Percentage'].plot(kind = 'bar', figsize=(60,30), fontsize=24, color = 'pink')\n",
    "g.set_title('Features importances', fontsize=70)\n",
    "g.set_xlabel('Features', fontsize=50)\n",
    "g.set_ylabel('Percentage of importances', fontsize=50)"
   ]
  },
  {
   "cell_type": "markdown",
   "id": "497de49a",
   "metadata": {
    "papermill": {
     "duration": 0.078265,
     "end_time": "2023-04-27T06:47:14.278813",
     "exception": false,
     "start_time": "2023-04-27T06:47:14.200548",
     "status": "completed"
    },
    "tags": []
   },
   "source": [
    "We see that three the most important features for predicting the target variable are:\n",
    "* ***Successive_Outbidding***;\n",
    "* ***Auction_Duration***;\n",
    "* ***Winning_Ratio***,\n",
    "\n",
    "and the less important are:\n",
    "* ***Starting_Price_Average***;\n",
    "* ***Auction_ID***;\n",
    "* ***Early_Bidding***."
   ]
  },
  {
   "cell_type": "markdown",
   "id": "2690d5f8",
   "metadata": {
    "papermill": {
     "duration": 0.07208,
     "end_time": "2023-04-27T06:47:14.423311",
     "exception": false,
     "start_time": "2023-04-27T06:47:14.351231",
     "status": "completed"
    },
    "tags": []
   },
   "source": [
    "#### Dimensionality reduction"
   ]
  },
  {
   "cell_type": "markdown",
   "id": "266f9a79",
   "metadata": {
    "papermill": {
     "duration": 0.07407,
     "end_time": "2023-04-27T06:47:14.570311",
     "exception": false,
     "start_time": "2023-04-27T06:47:14.496241",
     "status": "completed"
    },
    "tags": []
   },
   "source": [
    "We use dimensionality reduction when  we want to decrease the number of features in a dataset. Two techniques for dimensionality reduction are:\n",
    "* Principal Component Analysis (PCA);\n",
    "* Linear Discriminant Analysis (LDA).\n",
    "\n",
    "Both LDA and PCA are linear transformation techniques: LDA is a supervised whereas PCA is unsupervised – PCA ignores class labels. In contrast to PCA, LDA attempts to find a feature subspace that maximizes class separability. (Raschka, 2022)\n",
    "In this chapter I want to apply both PCA and LDA and compare results."
   ]
  },
  {
   "cell_type": "markdown",
   "id": "01704bf2",
   "metadata": {
    "papermill": {
     "duration": 0.072278,
     "end_time": "2023-04-27T06:47:14.715056",
     "exception": false,
     "start_time": "2023-04-27T06:47:14.642778",
     "status": "completed"
    },
    "tags": []
   },
   "source": [
    "##### PCA"
   ]
  },
  {
   "cell_type": "markdown",
   "id": "2b8dabee",
   "metadata": {
    "papermill": {
     "duration": 0.071755,
     "end_time": "2023-04-27T06:47:14.858693",
     "exception": false,
     "start_time": "2023-04-27T06:47:14.786938",
     "status": "completed"
    },
    "tags": []
   },
   "source": [
    "PCA is a statistical variance based procedure that converts a set of observations of possibly correlated variables into a set of values of linearly uncorrelated variables called principal components. In simpler words, PCA is often used to simplify data, reduce noise, and find unmeasured “latent variables”. (Volpi, 2020)\n",
    "We've already separated independants variables and the target variable, therefore we can apply PCA straight away."
   ]
  },
  {
   "cell_type": "markdown",
   "id": "22587333",
   "metadata": {
    "papermill": {
     "duration": 0.072903,
     "end_time": "2023-04-27T06:47:15.003850",
     "exception": false,
     "start_time": "2023-04-27T06:47:14.930947",
     "status": "completed"
    },
    "tags": []
   },
   "source": [
    "First, I want to plot an Explained varaince ratio graph to see how much of the variance in the original data is encapsulated in the new component variables."
   ]
  },
  {
   "cell_type": "code",
   "execution_count": 20,
   "id": "f5d68cca",
   "metadata": {
    "execution": {
     "iopub.execute_input": "2023-04-27T06:47:15.152144Z",
     "iopub.status.busy": "2023-04-27T06:47:15.151429Z",
     "iopub.status.idle": "2023-04-27T06:47:15.421248Z",
     "shell.execute_reply": "2023-04-27T06:47:15.420703Z",
     "shell.execute_reply.started": "2023-04-27T06:43:56.842940Z"
    },
    "papermill": {
     "duration": 0.345319,
     "end_time": "2023-04-27T06:47:15.421389",
     "exception": false,
     "start_time": "2023-04-27T06:47:15.076070",
     "status": "completed"
    },
    "tags": []
   },
   "outputs": [
    {
     "data": {
      "text/plain": [
       "Text(0, 0.5, 'Cumulative explained variance')"
      ]
     },
     "execution_count": 20,
     "metadata": {},
     "output_type": "execute_result"
    },
    {
     "data": {
      "image/png": "[encoded data removed]",
      "text/plain": [
       "<Figure size 432x288 with 1 Axes>"
      ]
     },
     "metadata": {
      "needs_background": "light"
     },
     "output_type": "display_data"
    }
   ],
   "source": [
    "pca = PCA().fit(X)\n",
    "plt.plot(np.cumsum(pca.explained_variance_ratio_))\n",
    "plt.title('Explained variance ratio', fontsize = 20)\n",
    "plt.xlabel('Number of components')\n",
    "plt.ylabel('Cumulative explained variance')"
   ]
  },
  {
   "cell_type": "markdown",
   "id": "c8531ca3",
   "metadata": {
    "papermill": {
     "duration": 0.073755,
     "end_time": "2023-04-27T06:47:15.570048",
     "exception": false,
     "start_time": "2023-04-27T06:47:15.496293",
     "status": "completed"
    },
    "tags": []
   },
   "source": [
    "From the graph above we see that in order to keep 90% of the original data we need to use 6 components."
   ]
  },
  {
   "cell_type": "code",
   "execution_count": 21,
   "id": "84c49183",
   "metadata": {
    "execution": {
     "iopub.execute_input": "2023-04-27T06:47:15.726036Z",
     "iopub.status.busy": "2023-04-27T06:47:15.722560Z",
     "iopub.status.idle": "2023-04-27T06:47:15.746418Z",
     "shell.execute_reply": "2023-04-27T06:47:15.747526Z",
     "shell.execute_reply.started": "2023-04-27T06:43:57.131561Z"
    },
    "papermill": {
     "duration": 0.103292,
     "end_time": "2023-04-27T06:47:15.747864",
     "exception": false,
     "start_time": "2023-04-27T06:47:15.644572",
     "status": "completed"
    },
    "tags": []
   },
   "outputs": [],
   "source": [
    "pca = PCA(n_components=6)\n",
    "projected = pca.fit_transform(X)"
   ]
  },
  {
   "cell_type": "code",
   "execution_count": 22,
   "id": "0d25c023",
   "metadata": {
    "execution": {
     "iopub.execute_input": "2023-04-27T06:47:15.971619Z",
     "iopub.status.busy": "2023-04-27T06:47:15.970802Z",
     "iopub.status.idle": "2023-04-27T06:47:15.975140Z",
     "shell.execute_reply": "2023-04-27T06:47:15.974562Z",
     "shell.execute_reply.started": "2023-04-27T06:43:57.167054Z"
    },
    "papermill": {
     "duration": 0.084318,
     "end_time": "2023-04-27T06:47:15.975286",
     "exception": false,
     "start_time": "2023-04-27T06:47:15.890968",
     "status": "completed"
    },
    "tags": []
   },
   "outputs": [
    {
     "data": {
      "text/plain": [
       "array([0.36141299, 0.20827264, 0.15559512, 0.07863725, 0.06955875,\n",
       "       0.05760696])"
      ]
     },
     "execution_count": 22,
     "metadata": {},
     "output_type": "execute_result"
    }
   ],
   "source": [
    "explained_variance = pca.explained_variance_ratio_\n",
    "explained_variance"
   ]
  },
  {
   "cell_type": "markdown",
   "id": "f3810fc4",
   "metadata": {
    "papermill": {
     "duration": 0.073764,
     "end_time": "2023-04-27T06:47:16.123570",
     "exception": false,
     "start_time": "2023-04-27T06:47:16.049806",
     "status": "completed"
    },
    "tags": []
   },
   "source": [
    "First 3 components contain the most ammount of data while the last three contain less than 20%. This the last step I want to create a DataFrame with 6 components and a target variable."
   ]
  },
  {
   "cell_type": "code",
   "execution_count": 23,
   "id": "e13f8c55",
   "metadata": {
    "execution": {
     "iopub.execute_input": "2023-04-27T06:47:16.278594Z",
     "iopub.status.busy": "2023-04-27T06:47:16.277885Z",
     "iopub.status.idle": "2023-04-27T06:47:16.291478Z",
     "shell.execute_reply": "2023-04-27T06:47:16.292015Z",
     "shell.execute_reply.started": "2023-04-27T06:43:57.180546Z"
    },
    "papermill": {
     "duration": 0.09452,
     "end_time": "2023-04-27T06:47:16.292195",
     "exception": false,
     "start_time": "2023-04-27T06:47:16.197675",
     "status": "completed"
    },
    "tags": []
   },
   "outputs": [
    {
     "data": {
      "text/html": [
       "<div>\n",
       "<style scoped>\n",
       "    .dataframe tbody tr th:only-of-type {\n",
       "        vertical-align: middle;\n",
       "    }\n",
       "\n",
       "    .dataframe tbody tr th {\n",
       "        vertical-align: top;\n",
       "    }\n",
       "\n",
       "    .dataframe thead th {\n",
       "        text-align: right;\n",
       "    }\n",
       "</style>\n",
       "<table border=\"1\" class=\"dataframe\">\n",
       "  <thead>\n",
       "    <tr style=\"text-align: right;\">\n",
       "      <th></th>\n",
       "      <th>PC 1</th>\n",
       "      <th>PC 2</th>\n",
       "      <th>PC 3</th>\n",
       "      <th>PC 4</th>\n",
       "      <th>PC 5</th>\n",
       "      <th>PC 6</th>\n",
       "      <th>Class</th>\n",
       "    </tr>\n",
       "    <tr>\n",
       "      <th>Record_ID</th>\n",
       "      <th></th>\n",
       "      <th></th>\n",
       "      <th></th>\n",
       "      <th></th>\n",
       "      <th></th>\n",
       "      <th></th>\n",
       "      <th></th>\n",
       "    </tr>\n",
       "  </thead>\n",
       "  <tbody>\n",
       "    <tr>\n",
       "      <th>1</th>\n",
       "      <td>-0.28</td>\n",
       "      <td>-0.28</td>\n",
       "      <td>0.74</td>\n",
       "      <td>-0.19</td>\n",
       "      <td>0.02</td>\n",
       "      <td>-0.28</td>\n",
       "      <td>0</td>\n",
       "    </tr>\n",
       "    <tr>\n",
       "      <th>2</th>\n",
       "      <td>-0.34</td>\n",
       "      <td>-0.13</td>\n",
       "      <td>0.82</td>\n",
       "      <td>-0.20</td>\n",
       "      <td>-0.00</td>\n",
       "      <td>-0.47</td>\n",
       "      <td>0</td>\n",
       "    </tr>\n",
       "    <tr>\n",
       "      <th>3</th>\n",
       "      <td>-0.37</td>\n",
       "      <td>-0.09</td>\n",
       "      <td>0.87</td>\n",
       "      <td>-0.20</td>\n",
       "      <td>-0.00</td>\n",
       "      <td>-0.46</td>\n",
       "      <td>0</td>\n",
       "    </tr>\n",
       "    <tr>\n",
       "      <th>4</th>\n",
       "      <td>-0.28</td>\n",
       "      <td>-0.01</td>\n",
       "      <td>0.80</td>\n",
       "      <td>-0.21</td>\n",
       "      <td>-0.00</td>\n",
       "      <td>-0.48</td>\n",
       "      <td>0</td>\n",
       "    </tr>\n",
       "    <tr>\n",
       "      <th>5</th>\n",
       "      <td>-0.82</td>\n",
       "      <td>-0.21</td>\n",
       "      <td>-0.04</td>\n",
       "      <td>-0.04</td>\n",
       "      <td>0.28</td>\n",
       "      <td>-0.09</td>\n",
       "      <td>0</td>\n",
       "    </tr>\n",
       "  </tbody>\n",
       "</table>\n",
       "</div>"
      ],
      "text/plain": [
       "           PC 1  PC 2  PC 3  PC 4  PC 5  PC 6  Class\n",
       "Record_ID                                           \n",
       "1         -0.28 -0.28  0.74 -0.19  0.02 -0.28      0\n",
       "2         -0.34 -0.13  0.82 -0.20 -0.00 -0.47      0\n",
       "3         -0.37 -0.09  0.87 -0.20 -0.00 -0.46      0\n",
       "4         -0.28 -0.01  0.80 -0.21 -0.00 -0.48      0\n",
       "5         -0.82 -0.21 -0.04 -0.04  0.28 -0.09      0"
      ]
     },
     "execution_count": 23,
     "metadata": {},
     "output_type": "execute_result"
    }
   ],
   "source": [
    "principal_df = pd.DataFrame(data = projected, columns = ['PC 1','PC 2','PC 3','PC 4','PC 5','PC 6'], index=index)\n",
    "df_pca = principal_df.join(y, how='outer')\n",
    "df_pca.head(5)"
   ]
  },
  {
   "cell_type": "markdown",
   "id": "7d0a9cde",
   "metadata": {
    "papermill": {
     "duration": 0.07528,
     "end_time": "2023-04-27T06:47:16.442317",
     "exception": false,
     "start_time": "2023-04-27T06:47:16.367037",
     "status": "completed"
    },
    "tags": []
   },
   "source": [
    "##### LDA"
   ]
  },
  {
   "cell_type": "markdown",
   "id": "02d4aed6",
   "metadata": {
    "papermill": {
     "duration": 0.074706,
     "end_time": "2023-04-27T06:47:16.591774",
     "exception": false,
     "start_time": "2023-04-27T06:47:16.517068",
     "status": "completed"
    },
    "tags": []
   },
   "source": [
    "Linear Discriminant Analysis, or LDA, uses the information from both features to create a new axis and projects the data on to the new axis in such a way as to minimizes the variance and maximizes the distance between the means of the two classes. (Maklin, 2019)"
   ]
  },
  {
   "cell_type": "markdown",
   "id": "bf5aab76",
   "metadata": {
    "papermill": {
     "duration": 0.075068,
     "end_time": "2023-04-27T06:47:16.743468",
     "exception": false,
     "start_time": "2023-04-27T06:47:16.668400",
     "status": "completed"
    },
    "tags": []
   },
   "source": [
    "I start with ***fit_transform*** of the both dependent and independent variables and then will take a look at the explained_variance_ratio."
   ]
  },
  {
   "cell_type": "code",
   "execution_count": 24,
   "id": "4d27c65f",
   "metadata": {
    "execution": {
     "iopub.execute_input": "2023-04-27T06:47:16.903885Z",
     "iopub.status.busy": "2023-04-27T06:47:16.903131Z",
     "iopub.status.idle": "2023-04-27T06:47:16.928055Z",
     "shell.execute_reply": "2023-04-27T06:47:16.927399Z",
     "shell.execute_reply.started": "2023-04-27T06:43:57.215802Z"
    },
    "papermill": {
     "duration": 0.108478,
     "end_time": "2023-04-27T06:47:16.928246",
     "exception": false,
     "start_time": "2023-04-27T06:47:16.819768",
     "status": "completed"
    },
    "tags": []
   },
   "outputs": [],
   "source": [
    "lda = LinearDiscriminantAnalysis()\n",
    "x_lda = lda.fit_transform(X,y)"
   ]
  },
  {
   "cell_type": "code",
   "execution_count": 25,
   "id": "659538a5",
   "metadata": {
    "execution": {
     "iopub.execute_input": "2023-04-27T06:47:17.156761Z",
     "iopub.status.busy": "2023-04-27T06:47:17.155852Z",
     "iopub.status.idle": "2023-04-27T06:47:17.158965Z",
     "shell.execute_reply": "2023-04-27T06:47:17.159471Z",
     "shell.execute_reply.started": "2023-04-27T06:43:57.258592Z"
    },
    "papermill": {
     "duration": 0.084522,
     "end_time": "2023-04-27T06:47:17.159644",
     "exception": false,
     "start_time": "2023-04-27T06:47:17.075122",
     "status": "completed"
    },
    "tags": []
   },
   "outputs": [
    {
     "data": {
      "text/plain": [
       "array([1.])"
      ]
     },
     "execution_count": 25,
     "metadata": {},
     "output_type": "execute_result"
    }
   ],
   "source": [
    "lda.explained_variance_ratio_"
   ]
  },
  {
   "cell_type": "markdown",
   "id": "29c141ce",
   "metadata": {
    "papermill": {
     "duration": 0.074631,
     "end_time": "2023-04-27T06:47:17.309566",
     "exception": false,
     "start_time": "2023-04-27T06:47:17.234935",
     "status": "completed"
    },
    "tags": []
   },
   "source": [
    "As our target variable is represented only by 2 classes, the LDA has reduced the number of components to 1. If we had at least two components we would be able to plot the data on the two-dimension graph. However in our case the data is represented by one dimension and the plot would look like a simple one dimension line.\n",
    "I want to create a DataFrame and record there LDA 1 we got as well as the target variable."
   ]
  },
  {
   "cell_type": "code",
   "execution_count": 26,
   "id": "f50a3b52",
   "metadata": {
    "execution": {
     "iopub.execute_input": "2023-04-27T06:47:17.474396Z",
     "iopub.status.busy": "2023-04-27T06:47:17.473508Z",
     "iopub.status.idle": "2023-04-27T06:47:17.477522Z",
     "shell.execute_reply": "2023-04-27T06:47:17.476982Z",
     "shell.execute_reply.started": "2023-04-27T06:43:57.268756Z"
    },
    "papermill": {
     "duration": 0.091395,
     "end_time": "2023-04-27T06:47:17.477671",
     "exception": false,
     "start_time": "2023-04-27T06:47:17.386276",
     "status": "completed"
    },
    "tags": []
   },
   "outputs": [
    {
     "data": {
      "text/html": [
       "<div>\n",
       "<style scoped>\n",
       "    .dataframe tbody tr th:only-of-type {\n",
       "        vertical-align: middle;\n",
       "    }\n",
       "\n",
       "    .dataframe tbody tr th {\n",
       "        vertical-align: top;\n",
       "    }\n",
       "\n",
       "    .dataframe thead th {\n",
       "        text-align: right;\n",
       "    }\n",
       "</style>\n",
       "<table border=\"1\" class=\"dataframe\">\n",
       "  <thead>\n",
       "    <tr style=\"text-align: right;\">\n",
       "      <th></th>\n",
       "      <th>LDA 1</th>\n",
       "      <th>Class</th>\n",
       "    </tr>\n",
       "    <tr>\n",
       "      <th>Record_ID</th>\n",
       "      <th></th>\n",
       "      <th></th>\n",
       "    </tr>\n",
       "  </thead>\n",
       "  <tbody>\n",
       "    <tr>\n",
       "      <th>1</th>\n",
       "      <td>-0.71</td>\n",
       "      <td>0</td>\n",
       "    </tr>\n",
       "    <tr>\n",
       "      <th>2</th>\n",
       "      <td>-0.64</td>\n",
       "      <td>0</td>\n",
       "    </tr>\n",
       "    <tr>\n",
       "      <th>3</th>\n",
       "      <td>-0.61</td>\n",
       "      <td>0</td>\n",
       "    </tr>\n",
       "    <tr>\n",
       "      <th>4</th>\n",
       "      <td>-0.61</td>\n",
       "      <td>0</td>\n",
       "    </tr>\n",
       "    <tr>\n",
       "      <th>5</th>\n",
       "      <td>-0.82</td>\n",
       "      <td>0</td>\n",
       "    </tr>\n",
       "    <tr>\n",
       "      <th>8</th>\n",
       "      <td>-0.72</td>\n",
       "      <td>0</td>\n",
       "    </tr>\n",
       "    <tr>\n",
       "      <th>10</th>\n",
       "      <td>-0.70</td>\n",
       "      <td>0</td>\n",
       "    </tr>\n",
       "    <tr>\n",
       "      <th>12</th>\n",
       "      <td>7.61</td>\n",
       "      <td>1</td>\n",
       "    </tr>\n",
       "    <tr>\n",
       "      <th>13</th>\n",
       "      <td>7.40</td>\n",
       "      <td>1</td>\n",
       "    </tr>\n",
       "    <tr>\n",
       "      <th>27</th>\n",
       "      <td>3.38</td>\n",
       "      <td>1</td>\n",
       "    </tr>\n",
       "  </tbody>\n",
       "</table>\n",
       "</div>"
      ],
      "text/plain": [
       "           LDA 1  Class\n",
       "Record_ID              \n",
       "1          -0.71      0\n",
       "2          -0.64      0\n",
       "3          -0.61      0\n",
       "4          -0.61      0\n",
       "5          -0.82      0\n",
       "8          -0.72      0\n",
       "10         -0.70      0\n",
       "12          7.61      1\n",
       "13          7.40      1\n",
       "27          3.38      1"
      ]
     },
     "execution_count": 26,
     "metadata": {},
     "output_type": "execute_result"
    }
   ],
   "source": [
    "linear_df = pd.DataFrame(data = x_lda, columns = ['LDA 1'], index=index)\n",
    "df_lda = linear_df.join(y, how='outer')\n",
    "df_lda.head(10)"
   ]
  },
  {
   "cell_type": "markdown",
   "id": "48784e4d",
   "metadata": {
    "papermill": {
     "duration": 0.075602,
     "end_time": "2023-04-27T06:47:17.630340",
     "exception": false,
     "start_time": "2023-04-27T06:47:17.554738",
     "status": "completed"
    },
    "tags": []
   },
   "source": [
    "From the table above we see, that negative numbers in LDA 1 belong to '0 class' and positive numbers belong to '1 class'."
   ]
  },
  {
   "cell_type": "markdown",
   "id": "0a6591ca",
   "metadata": {
    "papermill": {
     "duration": 0.075281,
     "end_time": "2023-04-27T06:47:17.781976",
     "exception": false,
     "start_time": "2023-04-27T06:47:17.706695",
     "status": "completed"
    },
    "tags": []
   },
   "source": [
    "PCA dimensionality reduction method allows us to choose the number of components we need to use. Apart from PCA in LDA we can't control the number of components they will be always reduced by one from number of classes we have represented as a target variable. However, LDA is a better use for solving classification problems as it creates a clear separation between classes. "
   ]
  },
  {
   "cell_type": "markdown",
   "id": "5bc6972c",
   "metadata": {
    "papermill": {
     "duration": 0.075398,
     "end_time": "2023-04-27T06:47:17.933193",
     "exception": false,
     "start_time": "2023-04-27T06:47:17.857795",
     "status": "completed"
    },
    "tags": []
   },
   "source": [
    "It was the last step of this stage. The dataset is ready for applying ML models. For the purpose of the modeling stage I'm going to use dataset with applied LDA."
   ]
  },
  {
   "cell_type": "markdown",
   "id": "b26ae8cd",
   "metadata": {
    "papermill": {
     "duration": 0.076425,
     "end_time": "2023-04-27T06:47:18.086382",
     "exception": false,
     "start_time": "2023-04-27T06:47:18.009957",
     "status": "completed"
    },
    "tags": []
   },
   "source": [
    "### 4. Modeling"
   ]
  },
  {
   "cell_type": "markdown",
   "id": "43bba2bb",
   "metadata": {
    "papermill": {
     "duration": 0.075266,
     "end_time": "2023-04-27T06:47:18.237906",
     "exception": false,
     "start_time": "2023-04-27T06:47:18.162640",
     "status": "completed"
    },
    "tags": []
   },
   "source": [
    "At this stage we will select the actual modelling technique that is to be used. It can be one or several models. According to the CA task I'll choose two models to work with and will explain my choice.\n",
    "As a first step of the stage I'll separate the target variable from dependent variables."
   ]
  },
  {
   "cell_type": "code",
   "execution_count": 27,
   "id": "b6492928",
   "metadata": {
    "execution": {
     "iopub.execute_input": "2023-04-27T06:47:18.397573Z",
     "iopub.status.busy": "2023-04-27T06:47:18.396553Z",
     "iopub.status.idle": "2023-04-27T06:47:18.401994Z",
     "shell.execute_reply": "2023-04-27T06:47:18.402585Z",
     "shell.execute_reply.started": "2023-04-27T06:43:57.295613Z"
    },
    "papermill": {
     "duration": 0.086155,
     "end_time": "2023-04-27T06:47:18.402788",
     "exception": false,
     "start_time": "2023-04-27T06:47:18.316633",
     "status": "completed"
    },
    "tags": []
   },
   "outputs": [],
   "source": [
    "X = df_lda.drop(columns='Class')\n",
    "y = df_lda['Class']"
   ]
  },
  {
   "cell_type": "markdown",
   "id": "96d40cfd",
   "metadata": {
    "papermill": {
     "duration": 0.075957,
     "end_time": "2023-04-27T06:47:18.554691",
     "exception": false,
     "start_time": "2023-04-27T06:47:18.478734",
     "status": "completed"
    },
    "tags": []
   },
   "source": [
    "Next, I'll split the dataset on train and test parts, keeping train part equals to 65% and train part 35%."
   ]
  },
  {
   "cell_type": "code",
   "execution_count": 28,
   "id": "9b18d2ca",
   "metadata": {
    "execution": {
     "iopub.execute_input": "2023-04-27T06:47:18.714874Z",
     "iopub.status.busy": "2023-04-27T06:47:18.712701Z",
     "iopub.status.idle": "2023-04-27T06:47:18.717661Z",
     "shell.execute_reply": "2023-04-27T06:47:18.718172Z",
     "shell.execute_reply.started": "2023-04-27T06:43:57.306403Z"
    },
    "papermill": {
     "duration": 0.088068,
     "end_time": "2023-04-27T06:47:18.718345",
     "exception": false,
     "start_time": "2023-04-27T06:47:18.630277",
     "status": "completed"
    },
    "tags": []
   },
   "outputs": [
    {
     "data": {
      "text/plain": [
       "((4108, 1), (2213, 1), (4108,), (2213,))"
      ]
     },
     "execution_count": 28,
     "metadata": {},
     "output_type": "execute_result"
    }
   ],
   "source": [
    "from sklearn.model_selection import train_test_split\n",
    "X_train, X_test, y_train, y_test = train_test_split(X, y, test_size=0.35, random_state=1, shuffle=True)\n",
    "X_train.shape, X_test.shape, y_train.shape, y_test.shape"
   ]
  },
  {
   "cell_type": "markdown",
   "id": "fc240141",
   "metadata": {
    "papermill": {
     "duration": 0.07507,
     "end_time": "2023-04-27T06:47:18.868831",
     "exception": false,
     "start_time": "2023-04-27T06:47:18.793761",
     "status": "completed"
    },
    "tags": []
   },
   "source": [
    "The first algorithm I'll be working with is a Logistic Regression. Logistic Regression is a Supervised Machine Learning classification algorithm that is used to predict the probability of a categorical dependent variable. (Li, 2017).\n",
    "The reason why I'll be using the Logistic regression algorithm is because it's designed for two-class (binary) problems, modeling the target using a binomial probability distribution function."
   ]
  },
  {
   "cell_type": "markdown",
   "id": "cdb9cba4",
   "metadata": {
    "papermill": {
     "duration": 0.075371,
     "end_time": "2023-04-27T06:47:19.019512",
     "exception": false,
     "start_time": "2023-04-27T06:47:18.944141",
     "status": "completed"
    },
    "tags": []
   },
   "source": [
    "#### Logistic Regression"
   ]
  },
  {
   "cell_type": "markdown",
   "id": "d8a07c1a",
   "metadata": {
    "papermill": {
     "duration": 0.075297,
     "end_time": "2023-04-27T06:47:19.170538",
     "exception": false,
     "start_time": "2023-04-27T06:47:19.095241",
     "status": "completed"
    },
    "tags": []
   },
   "source": [
    "First step is to fit the model:"
   ]
  },
  {
   "cell_type": "code",
   "execution_count": 29,
   "id": "95b13cea",
   "metadata": {
    "execution": {
     "iopub.execute_input": "2023-04-27T06:47:19.331492Z",
     "iopub.status.busy": "2023-04-27T06:47:19.330875Z",
     "iopub.status.idle": "2023-04-27T06:47:19.345733Z",
     "shell.execute_reply": "2023-04-27T06:47:19.346350Z",
     "shell.execute_reply.started": "2023-04-27T06:43:57.326753Z"
    },
    "papermill": {
     "duration": 0.099297,
     "end_time": "2023-04-27T06:47:19.346535",
     "exception": false,
     "start_time": "2023-04-27T06:47:19.247238",
     "status": "completed"
    },
    "tags": []
   },
   "outputs": [],
   "source": [
    "logreg = LogisticRegression()\n",
    "logreg.fit(X_train, y_train)\n",
    "y_pred = logreg.predict(X_test)"
   ]
  },
  {
   "cell_type": "markdown",
   "id": "cc388534",
   "metadata": {
    "papermill": {
     "duration": 0.076398,
     "end_time": "2023-04-27T06:47:19.499803",
     "exception": false,
     "start_time": "2023-04-27T06:47:19.423405",
     "status": "completed"
    },
    "tags": []
   },
   "source": [
    "With the next step I want to define the best model's parameters in order to get the best possible accuracy.\n",
    "I'll be working with the next LogisticRegression parameters:\n",
    "* **solvers**;\n",
    "* **penalty**;\n",
    "* **c_values**.\n",
    "\n",
    "**Solvers** - Algorithm to use in the optimization problem:\n",
    "* For small datasets, ‘liblinear’ is a good choice, whereas ‘sag’ and ‘saga’ are faster for large ones;\n",
    "* For multiclass problems, only ‘newton-cg’, ‘sag’, ‘saga’ and ‘lbfgs’ handle multinomial loss;\n",
    "* ‘liblinear’ is limited to one-versus-rest schemes.\n",
    "\n",
    "**Penalty** - Specify the norm of the penalty:\n",
    "* 'none': no penalty is added;\n",
    "* 'l2': add a L2 penalty term and it is the default choice;\n",
    "* 'l1': add a L1 penalty term;\n",
    "\n",
    "**C_values** - Inverse of regularization strength; must be a positive float. Like in support vector machines, smaller values specify stronger regularization."
   ]
  },
  {
   "cell_type": "markdown",
   "id": "67dbb2f9",
   "metadata": {
    "papermill": {
     "duration": 0.075458,
     "end_time": "2023-04-27T06:47:19.651602",
     "exception": false,
     "start_time": "2023-04-27T06:47:19.576144",
     "status": "completed"
    },
    "tags": []
   },
   "source": [
    "##### Tuning hyper-parameters of an estimator"
   ]
  },
  {
   "cell_type": "markdown",
   "id": "81e8fc94",
   "metadata": {
    "papermill": {
     "duration": 0.074973,
     "end_time": "2023-04-27T06:47:19.802336",
     "exception": false,
     "start_time": "2023-04-27T06:47:19.727363",
     "status": "completed"
    },
    "tags": []
   },
   "source": [
    "We need to records parameters we've defined in a list:"
   ]
  },
  {
   "cell_type": "code",
   "execution_count": 30,
   "id": "3cc63bb0",
   "metadata": {
    "execution": {
     "iopub.execute_input": "2023-04-27T06:47:19.959142Z",
     "iopub.status.busy": "2023-04-27T06:47:19.958091Z",
     "iopub.status.idle": "2023-04-27T06:47:19.960252Z",
     "shell.execute_reply": "2023-04-27T06:47:19.960798Z",
     "shell.execute_reply.started": "2023-04-27T06:43:57.362262Z"
    },
    "papermill": {
     "duration": 0.08328,
     "end_time": "2023-04-27T06:47:19.960982",
     "exception": false,
     "start_time": "2023-04-27T06:47:19.877702",
     "status": "completed"
    },
    "tags": []
   },
   "outputs": [],
   "source": [
    "solvers = ['newton-cg', 'lbfgs', 'liblinear', 'sag', 'saga']\n",
    "penalty = ['none','l1','l2']\n",
    "c_values = [100, 10, 1.0, 0.1, 0.01]"
   ]
  },
  {
   "cell_type": "markdown",
   "id": "a741d684",
   "metadata": {
    "papermill": {
     "duration": 0.075145,
     "end_time": "2023-04-27T06:47:20.112688",
     "exception": false,
     "start_time": "2023-04-27T06:47:20.037543",
     "status": "completed"
    },
    "tags": []
   },
   "source": [
    "To tune the parameters we will be using GridSearchCV. GridSearchCV is as exhaustive search over specified parameter values for an estimator. Grid Search uses a different combination of all the specified hyperparameters and their values and calculates the performance for each combination and selects the best value for the hyperparameters. (Shah, 2021)"
   ]
  },
  {
   "cell_type": "code",
   "execution_count": 31,
   "id": "47cc6500",
   "metadata": {
    "execution": {
     "iopub.execute_input": "2023-04-27T06:47:20.268190Z",
     "iopub.status.busy": "2023-04-27T06:47:20.267449Z",
     "iopub.status.idle": "2023-04-27T06:47:24.460992Z",
     "shell.execute_reply": "2023-04-27T06:47:24.461482Z",
     "shell.execute_reply.started": "2023-04-27T06:43:57.370556Z"
    },
    "papermill": {
     "duration": 4.273287,
     "end_time": "2023-04-27T06:47:24.461678",
     "exception": false,
     "start_time": "2023-04-27T06:47:20.188391",
     "status": "completed"
    },
    "tags": []
   },
   "outputs": [
    {
     "name": "stderr",
     "output_type": "stream",
     "text": [
      "/opt/conda/lib/python3.7/site-packages/sklearn/linear_model/_logistic.py:1321: UserWarning: Setting penalty='none' will ignore the C and l1_ratio parameters\n",
      "  \"Setting penalty='none' will ignore the C and l1_ratio \"\n",
      "/opt/conda/lib/python3.7/site-packages/sklearn/linear_model/_logistic.py:1321: UserWarning: Setting penalty='none' will ignore the C and l1_ratio parameters\n",
      "  \"Setting penalty='none' will ignore the C and l1_ratio \"\n",
      "/opt/conda/lib/python3.7/site-packages/sklearn/linear_model/_logistic.py:1321: UserWarning: Setting penalty='none' will ignore the C and l1_ratio parameters\n",
      "  \"Setting penalty='none' will ignore the C and l1_ratio \"\n",
      "/opt/conda/lib/python3.7/site-packages/sklearn/model_selection/_validation.py:552: FitFailedWarning: Estimator fit failed. The score on this train-test partition for these parameters will be set to 0.000000. Details: \n",
      "Traceback (most recent call last):\n",
      "  File \"/opt/conda/lib/python3.7/site-packages/sklearn/model_selection/_validation.py\", line 531, in _fit_and_score\n",
      "    estimator.fit(X_train, y_train, **fit_params)\n",
      "  File \"/opt/conda/lib/python3.7/site-packages/sklearn/linear_model/_logistic.py\", line 1304, in fit\n",
      "    solver = _check_solver(self.solver, self.penalty, self.dual)\n",
      "  File \"/opt/conda/lib/python3.7/site-packages/sklearn/linear_model/_logistic.py\", line 454, in _check_solver\n",
      "    \"penalty='none' is not supported for the liblinear solver\"\n",
      "ValueError: penalty='none' is not supported for the liblinear solver\n",
      "\n",
      "  FitFailedWarning)\n",
      "/opt/conda/lib/python3.7/site-packages/sklearn/linear_model/_logistic.py:1321: UserWarning: Setting penalty='none' will ignore the C and l1_ratio parameters\n",
      "  \"Setting penalty='none' will ignore the C and l1_ratio \"\n",
      "/opt/conda/lib/python3.7/site-packages/sklearn/linear_model/_logistic.py:1321: UserWarning: Setting penalty='none' will ignore the C and l1_ratio parameters\n",
      "  \"Setting penalty='none' will ignore the C and l1_ratio \"\n",
      "/opt/conda/lib/python3.7/site-packages/sklearn/linear_model/_logistic.py:1321: UserWarning: Setting penalty='none' will ignore the C and l1_ratio parameters\n",
      "  \"Setting penalty='none' will ignore the C and l1_ratio \"\n",
      "/opt/conda/lib/python3.7/site-packages/sklearn/model_selection/_validation.py:552: FitFailedWarning: Estimator fit failed. The score on this train-test partition for these parameters will be set to 0.000000. Details: \n",
      "Traceback (most recent call last):\n",
      "  File \"/opt/conda/lib/python3.7/site-packages/sklearn/model_selection/_validation.py\", line 531, in _fit_and_score\n",
      "    estimator.fit(X_train, y_train, **fit_params)\n",
      "  File \"/opt/conda/lib/python3.7/site-packages/sklearn/linear_model/_logistic.py\", line 1304, in fit\n",
      "    solver = _check_solver(self.solver, self.penalty, self.dual)\n",
      "  File \"/opt/conda/lib/python3.7/site-packages/sklearn/linear_model/_logistic.py\", line 443, in _check_solver\n",
      "    \"got %s penalty.\" % (solver, penalty))\n",
      "ValueError: Solver newton-cg supports only 'l2' or 'none' penalties, got l1 penalty.\n",
      "\n",
      "  FitFailedWarning)\n",
      "/opt/conda/lib/python3.7/site-packages/sklearn/model_selection/_validation.py:552: FitFailedWarning: Estimator fit failed. The score on this train-test partition for these parameters will be set to 0.000000. Details: \n",
      "Traceback (most recent call last):\n",
      "  File \"/opt/conda/lib/python3.7/site-packages/sklearn/model_selection/_validation.py\", line 531, in _fit_and_score\n",
      "    estimator.fit(X_train, y_train, **fit_params)\n",
      "  File \"/opt/conda/lib/python3.7/site-packages/sklearn/linear_model/_logistic.py\", line 1304, in fit\n",
      "    solver = _check_solver(self.solver, self.penalty, self.dual)\n",
      "  File \"/opt/conda/lib/python3.7/site-packages/sklearn/linear_model/_logistic.py\", line 443, in _check_solver\n",
      "    \"got %s penalty.\" % (solver, penalty))\n",
      "ValueError: Solver lbfgs supports only 'l2' or 'none' penalties, got l1 penalty.\n",
      "\n",
      "  FitFailedWarning)\n",
      "/opt/conda/lib/python3.7/site-packages/sklearn/model_selection/_validation.py:552: FitFailedWarning: Estimator fit failed. The score on this train-test partition for these parameters will be set to 0.000000. Details: \n",
      "Traceback (most recent call last):\n",
      "  File \"/opt/conda/lib/python3.7/site-packages/sklearn/model_selection/_validation.py\", line 531, in _fit_and_score\n",
      "    estimator.fit(X_train, y_train, **fit_params)\n",
      "  File \"/opt/conda/lib/python3.7/site-packages/sklearn/linear_model/_logistic.py\", line 1304, in fit\n",
      "    solver = _check_solver(self.solver, self.penalty, self.dual)\n",
      "  File \"/opt/conda/lib/python3.7/site-packages/sklearn/linear_model/_logistic.py\", line 443, in _check_solver\n",
      "    \"got %s penalty.\" % (solver, penalty))\n",
      "ValueError: Solver sag supports only 'l2' or 'none' penalties, got l1 penalty.\n",
      "\n",
      "  FitFailedWarning)\n",
      "/opt/conda/lib/python3.7/site-packages/sklearn/linear_model/_logistic.py:1321: UserWarning: Setting penalty='none' will ignore the C and l1_ratio parameters\n",
      "  \"Setting penalty='none' will ignore the C and l1_ratio \"\n",
      "/opt/conda/lib/python3.7/site-packages/sklearn/model_selection/_validation.py:552: FitFailedWarning: Estimator fit failed. The score on this train-test partition for these parameters will be set to 0.000000. Details: \n",
      "Traceback (most recent call last):\n",
      "  File \"/opt/conda/lib/python3.7/site-packages/sklearn/model_selection/_validation.py\", line 531, in _fit_and_score\n",
      "    estimator.fit(X_train, y_train, **fit_params)\n",
      "  File \"/opt/conda/lib/python3.7/site-packages/sklearn/linear_model/_logistic.py\", line 1304, in fit\n",
      "    solver = _check_solver(self.solver, self.penalty, self.dual)\n",
      "  File \"/opt/conda/lib/python3.7/site-packages/sklearn/linear_model/_logistic.py\", line 454, in _check_solver\n",
      "    \"penalty='none' is not supported for the liblinear solver\"\n",
      "ValueError: penalty='none' is not supported for the liblinear solver\n",
      "\n",
      "  FitFailedWarning)\n",
      "/opt/conda/lib/python3.7/site-packages/sklearn/linear_model/_logistic.py:1321: UserWarning: Setting penalty='none' will ignore the C and l1_ratio parameters\n",
      "  \"Setting penalty='none' will ignore the C and l1_ratio \"\n",
      "/opt/conda/lib/python3.7/site-packages/sklearn/linear_model/_logistic.py:1321: UserWarning: Setting penalty='none' will ignore the C and l1_ratio parameters\n",
      "  \"Setting penalty='none' will ignore the C and l1_ratio \"\n",
      "/opt/conda/lib/python3.7/site-packages/sklearn/linear_model/_logistic.py:1321: UserWarning: Setting penalty='none' will ignore the C and l1_ratio parameters\n",
      "  \"Setting penalty='none' will ignore the C and l1_ratio \"\n",
      "/opt/conda/lib/python3.7/site-packages/sklearn/linear_model/_logistic.py:1321: UserWarning: Setting penalty='none' will ignore the C and l1_ratio parameters\n",
      "  \"Setting penalty='none' will ignore the C and l1_ratio \"\n",
      "/opt/conda/lib/python3.7/site-packages/sklearn/linear_model/_logistic.py:1321: UserWarning: Setting penalty='none' will ignore the C and l1_ratio parameters\n",
      "  \"Setting penalty='none' will ignore the C and l1_ratio \"\n",
      "/opt/conda/lib/python3.7/site-packages/sklearn/linear_model/_logistic.py:1321: UserWarning: Setting penalty='none' will ignore the C and l1_ratio parameters\n",
      "  \"Setting penalty='none' will ignore the C and l1_ratio \"\n",
      "/opt/conda/lib/python3.7/site-packages/sklearn/model_selection/_validation.py:552: FitFailedWarning: Estimator fit failed. The score on this train-test partition for these parameters will be set to 0.000000. Details: \n",
      "Traceback (most recent call last):\n",
      "  File \"/opt/conda/lib/python3.7/site-packages/sklearn/model_selection/_validation.py\", line 531, in _fit_and_score\n",
      "    estimator.fit(X_train, y_train, **fit_params)\n",
      "  File \"/opt/conda/lib/python3.7/site-packages/sklearn/linear_model/_logistic.py\", line 1304, in fit\n",
      "    solver = _check_solver(self.solver, self.penalty, self.dual)\n",
      "  File \"/opt/conda/lib/python3.7/site-packages/sklearn/linear_model/_logistic.py\", line 443, in _check_solver\n",
      "    \"got %s penalty.\" % (solver, penalty))\n",
      "ValueError: Solver newton-cg supports only 'l2' or 'none' penalties, got l1 penalty.\n",
      "\n",
      "  FitFailedWarning)\n",
      "/opt/conda/lib/python3.7/site-packages/sklearn/model_selection/_validation.py:552: FitFailedWarning: Estimator fit failed. The score on this train-test partition for these parameters will be set to 0.000000. Details: \n",
      "Traceback (most recent call last):\n",
      "  File \"/opt/conda/lib/python3.7/site-packages/sklearn/model_selection/_validation.py\", line 531, in _fit_and_score\n",
      "    estimator.fit(X_train, y_train, **fit_params)\n",
      "  File \"/opt/conda/lib/python3.7/site-packages/sklearn/linear_model/_logistic.py\", line 1304, in fit\n",
      "    solver = _check_solver(self.solver, self.penalty, self.dual)\n",
      "  File \"/opt/conda/lib/python3.7/site-packages/sklearn/linear_model/_logistic.py\", line 443, in _check_solver\n",
      "    \"got %s penalty.\" % (solver, penalty))\n",
      "ValueError: Solver lbfgs supports only 'l2' or 'none' penalties, got l1 penalty.\n",
      "\n",
      "  FitFailedWarning)\n",
      "/opt/conda/lib/python3.7/site-packages/sklearn/linear_model/_logistic.py:1321: UserWarning: Setting penalty='none' will ignore the C and l1_ratio parameters\n",
      "  \"Setting penalty='none' will ignore the C and l1_ratio \"\n",
      "/opt/conda/lib/python3.7/site-packages/sklearn/linear_model/_logistic.py:1321: UserWarning: Setting penalty='none' will ignore the C and l1_ratio parameters\n",
      "  \"Setting penalty='none' will ignore the C and l1_ratio \"\n",
      "/opt/conda/lib/python3.7/site-packages/sklearn/linear_model/_logistic.py:1321: UserWarning: Setting penalty='none' will ignore the C and l1_ratio parameters\n",
      "  \"Setting penalty='none' will ignore the C and l1_ratio \"\n",
      "/opt/conda/lib/python3.7/site-packages/sklearn/linear_model/_logistic.py:1321: UserWarning: Setting penalty='none' will ignore the C and l1_ratio parameters\n",
      "  \"Setting penalty='none' will ignore the C and l1_ratio \"\n",
      "/opt/conda/lib/python3.7/site-packages/sklearn/model_selection/_validation.py:552: FitFailedWarning: Estimator fit failed. The score on this train-test partition for these parameters will be set to 0.000000. Details: \n",
      "Traceback (most recent call last):\n",
      "  File \"/opt/conda/lib/python3.7/site-packages/sklearn/model_selection/_validation.py\", line 531, in _fit_and_score\n",
      "    estimator.fit(X_train, y_train, **fit_params)\n",
      "  File \"/opt/conda/lib/python3.7/site-packages/sklearn/linear_model/_logistic.py\", line 1304, in fit\n",
      "    solver = _check_solver(self.solver, self.penalty, self.dual)\n",
      "  File \"/opt/conda/lib/python3.7/site-packages/sklearn/linear_model/_logistic.py\", line 454, in _check_solver\n",
      "    \"penalty='none' is not supported for the liblinear solver\"\n",
      "ValueError: penalty='none' is not supported for the liblinear solver\n",
      "\n",
      "  FitFailedWarning)\n",
      "/opt/conda/lib/python3.7/site-packages/sklearn/linear_model/_logistic.py:1321: UserWarning: Setting penalty='none' will ignore the C and l1_ratio parameters\n",
      "  \"Setting penalty='none' will ignore the C and l1_ratio \"\n",
      "/opt/conda/lib/python3.7/site-packages/sklearn/linear_model/_logistic.py:1321: UserWarning: Setting penalty='none' will ignore the C and l1_ratio parameters\n",
      "  \"Setting penalty='none' will ignore the C and l1_ratio \"\n",
      "/opt/conda/lib/python3.7/site-packages/sklearn/linear_model/_logistic.py:1321: UserWarning: Setting penalty='none' will ignore the C and l1_ratio parameters\n",
      "  \"Setting penalty='none' will ignore the C and l1_ratio \"\n",
      "/opt/conda/lib/python3.7/site-packages/sklearn/linear_model/_logistic.py:1321: UserWarning: Setting penalty='none' will ignore the C and l1_ratio parameters\n",
      "  \"Setting penalty='none' will ignore the C and l1_ratio \"\n",
      "/opt/conda/lib/python3.7/site-packages/sklearn/model_selection/_validation.py:552: FitFailedWarning: Estimator fit failed. The score on this train-test partition for these parameters will be set to 0.000000. Details: \n",
      "Traceback (most recent call last):\n",
      "  File \"/opt/conda/lib/python3.7/site-packages/sklearn/model_selection/_validation.py\", line 531, in _fit_and_score\n",
      "    estimator.fit(X_train, y_train, **fit_params)\n",
      "  File \"/opt/conda/lib/python3.7/site-packages/sklearn/linear_model/_logistic.py\", line 1304, in fit\n",
      "    solver = _check_solver(self.solver, self.penalty, self.dual)\n",
      "  File \"/opt/conda/lib/python3.7/site-packages/sklearn/linear_model/_logistic.py\", line 443, in _check_solver\n",
      "    \"got %s penalty.\" % (solver, penalty))\n",
      "ValueError: Solver lbfgs supports only 'l2' or 'none' penalties, got l1 penalty.\n",
      "\n",
      "  FitFailedWarning)\n",
      "/opt/conda/lib/python3.7/site-packages/sklearn/linear_model/_logistic.py:1321: UserWarning: Setting penalty='none' will ignore the C and l1_ratio parameters\n",
      "  \"Setting penalty='none' will ignore the C and l1_ratio \"\n",
      "/opt/conda/lib/python3.7/site-packages/sklearn/linear_model/_logistic.py:1321: UserWarning: Setting penalty='none' will ignore the C and l1_ratio parameters\n",
      "  \"Setting penalty='none' will ignore the C and l1_ratio \"\n",
      "/opt/conda/lib/python3.7/site-packages/sklearn/linear_model/_logistic.py:1321: UserWarning: Setting penalty='none' will ignore the C and l1_ratio parameters\n",
      "  \"Setting penalty='none' will ignore the C and l1_ratio \"\n",
      "/opt/conda/lib/python3.7/site-packages/sklearn/linear_model/_logistic.py:1321: UserWarning: Setting penalty='none' will ignore the C and l1_ratio parameters\n",
      "  \"Setting penalty='none' will ignore the C and l1_ratio \"\n",
      "/opt/conda/lib/python3.7/site-packages/sklearn/model_selection/_validation.py:552: FitFailedWarning: Estimator fit failed. The score on this train-test partition for these parameters will be set to 0.000000. Details: \n",
      "Traceback (most recent call last):\n",
      "  File \"/opt/conda/lib/python3.7/site-packages/sklearn/model_selection/_validation.py\", line 531, in _fit_and_score\n",
      "    estimator.fit(X_train, y_train, **fit_params)\n",
      "  File \"/opt/conda/lib/python3.7/site-packages/sklearn/linear_model/_logistic.py\", line 1304, in fit\n",
      "    solver = _check_solver(self.solver, self.penalty, self.dual)\n",
      "  File \"/opt/conda/lib/python3.7/site-packages/sklearn/linear_model/_logistic.py\", line 443, in _check_solver\n",
      "    \"got %s penalty.\" % (solver, penalty))\n",
      "ValueError: Solver newton-cg supports only 'l2' or 'none' penalties, got l1 penalty.\n",
      "\n",
      "  FitFailedWarning)\n",
      "/opt/conda/lib/python3.7/site-packages/sklearn/model_selection/_validation.py:552: FitFailedWarning: Estimator fit failed. The score on this train-test partition for these parameters will be set to 0.000000. Details: \n",
      "Traceback (most recent call last):\n",
      "  File \"/opt/conda/lib/python3.7/site-packages/sklearn/model_selection/_validation.py\", line 531, in _fit_and_score\n",
      "    estimator.fit(X_train, y_train, **fit_params)\n",
      "  File \"/opt/conda/lib/python3.7/site-packages/sklearn/linear_model/_logistic.py\", line 1304, in fit\n",
      "    solver = _check_solver(self.solver, self.penalty, self.dual)\n",
      "  File \"/opt/conda/lib/python3.7/site-packages/sklearn/linear_model/_logistic.py\", line 443, in _check_solver\n",
      "    \"got %s penalty.\" % (solver, penalty))\n",
      "ValueError: Solver lbfgs supports only 'l2' or 'none' penalties, got l1 penalty.\n",
      "\n",
      "  FitFailedWarning)\n",
      "/opt/conda/lib/python3.7/site-packages/sklearn/model_selection/_validation.py:552: FitFailedWarning: Estimator fit failed. The score on this train-test partition for these parameters will be set to 0.000000. Details: \n",
      "Traceback (most recent call last):\n",
      "  File \"/opt/conda/lib/python3.7/site-packages/sklearn/model_selection/_validation.py\", line 531, in _fit_and_score\n",
      "    estimator.fit(X_train, y_train, **fit_params)\n",
      "  File \"/opt/conda/lib/python3.7/site-packages/sklearn/linear_model/_logistic.py\", line 1304, in fit\n",
      "    solver = _check_solver(self.solver, self.penalty, self.dual)\n",
      "  File \"/opt/conda/lib/python3.7/site-packages/sklearn/linear_model/_logistic.py\", line 443, in _check_solver\n",
      "    \"got %s penalty.\" % (solver, penalty))\n",
      "ValueError: Solver sag supports only 'l2' or 'none' penalties, got l1 penalty.\n",
      "\n",
      "  FitFailedWarning)\n",
      "/opt/conda/lib/python3.7/site-packages/sklearn/model_selection/_validation.py:552: FitFailedWarning: Estimator fit failed. The score on this train-test partition for these parameters will be set to 0.000000. Details: \n",
      "Traceback (most recent call last):\n",
      "  File \"/opt/conda/lib/python3.7/site-packages/sklearn/model_selection/_validation.py\", line 531, in _fit_and_score\n",
      "    estimator.fit(X_train, y_train, **fit_params)\n",
      "  File \"/opt/conda/lib/python3.7/site-packages/sklearn/linear_model/_logistic.py\", line 1304, in fit\n",
      "    solver = _check_solver(self.solver, self.penalty, self.dual)\n",
      "  File \"/opt/conda/lib/python3.7/site-packages/sklearn/linear_model/_logistic.py\", line 443, in _check_solver\n",
      "    \"got %s penalty.\" % (solver, penalty))\n",
      "ValueError: Solver lbfgs supports only 'l2' or 'none' penalties, got l1 penalty.\n",
      "\n",
      "  FitFailedWarning)\n",
      "/opt/conda/lib/python3.7/site-packages/sklearn/model_selection/_validation.py:552: FitFailedWarning: Estimator fit failed. The score on this train-test partition for these parameters will be set to 0.000000. Details: \n",
      "Traceback (most recent call last):\n",
      "  File \"/opt/conda/lib/python3.7/site-packages/sklearn/model_selection/_validation.py\", line 531, in _fit_and_score\n",
      "    estimator.fit(X_train, y_train, **fit_params)\n",
      "  File \"/opt/conda/lib/python3.7/site-packages/sklearn/linear_model/_logistic.py\", line 1304, in fit\n",
      "    solver = _check_solver(self.solver, self.penalty, self.dual)\n",
      "  File \"/opt/conda/lib/python3.7/site-packages/sklearn/linear_model/_logistic.py\", line 443, in _check_solver\n",
      "    \"got %s penalty.\" % (solver, penalty))\n",
      "ValueError: Solver sag supports only 'l2' or 'none' penalties, got l1 penalty.\n",
      "\n",
      "  FitFailedWarning)\n",
      "/opt/conda/lib/python3.7/site-packages/sklearn/linear_model/_logistic.py:1321: UserWarning: Setting penalty='none' will ignore the C and l1_ratio parameters\n",
      "  \"Setting penalty='none' will ignore the C and l1_ratio \"\n",
      "/opt/conda/lib/python3.7/site-packages/sklearn/model_selection/_validation.py:552: FitFailedWarning: Estimator fit failed. The score on this train-test partition for these parameters will be set to 0.000000. Details: \n",
      "Traceback (most recent call last):\n",
      "  File \"/opt/conda/lib/python3.7/site-packages/sklearn/model_selection/_validation.py\", line 531, in _fit_and_score\n",
      "    estimator.fit(X_train, y_train, **fit_params)\n",
      "  File \"/opt/conda/lib/python3.7/site-packages/sklearn/linear_model/_logistic.py\", line 1304, in fit\n",
      "    solver = _check_solver(self.solver, self.penalty, self.dual)\n",
      "  File \"/opt/conda/lib/python3.7/site-packages/sklearn/linear_model/_logistic.py\", line 443, in _check_solver\n",
      "    \"got %s penalty.\" % (solver, penalty))\n",
      "ValueError: Solver newton-cg supports only 'l2' or 'none' penalties, got l1 penalty.\n",
      "\n",
      "  FitFailedWarning)\n",
      "/opt/conda/lib/python3.7/site-packages/sklearn/model_selection/_validation.py:552: FitFailedWarning: Estimator fit failed. The score on this train-test partition for these parameters will be set to 0.000000. Details: \n",
      "Traceback (most recent call last):\n",
      "  File \"/opt/conda/lib/python3.7/site-packages/sklearn/model_selection/_validation.py\", line 531, in _fit_and_score\n",
      "    estimator.fit(X_train, y_train, **fit_params)\n",
      "  File \"/opt/conda/lib/python3.7/site-packages/sklearn/linear_model/_logistic.py\", line 1304, in fit\n",
      "    solver = _check_solver(self.solver, self.penalty, self.dual)\n",
      "  File \"/opt/conda/lib/python3.7/site-packages/sklearn/linear_model/_logistic.py\", line 443, in _check_solver\n",
      "    \"got %s penalty.\" % (solver, penalty))\n",
      "ValueError: Solver lbfgs supports only 'l2' or 'none' penalties, got l1 penalty.\n",
      "\n",
      "  FitFailedWarning)\n",
      "/opt/conda/lib/python3.7/site-packages/sklearn/model_selection/_validation.py:552: FitFailedWarning: Estimator fit failed. The score on this train-test partition for these parameters will be set to 0.000000. Details: \n",
      "Traceback (most recent call last):\n",
      "  File \"/opt/conda/lib/python3.7/site-packages/sklearn/model_selection/_validation.py\", line 531, in _fit_and_score\n",
      "    estimator.fit(X_train, y_train, **fit_params)\n",
      "  File \"/opt/conda/lib/python3.7/site-packages/sklearn/linear_model/_logistic.py\", line 1304, in fit\n",
      "    solver = _check_solver(self.solver, self.penalty, self.dual)\n",
      "  File \"/opt/conda/lib/python3.7/site-packages/sklearn/linear_model/_logistic.py\", line 443, in _check_solver\n",
      "    \"got %s penalty.\" % (solver, penalty))\n",
      "ValueError: Solver sag supports only 'l2' or 'none' penalties, got l1 penalty.\n",
      "\n",
      "  FitFailedWarning)\n",
      "/opt/conda/lib/python3.7/site-packages/sklearn/linear_model/_logistic.py:1321: UserWarning: Setting penalty='none' will ignore the C and l1_ratio parameters\n",
      "  \"Setting penalty='none' will ignore the C and l1_ratio \"\n",
      "/opt/conda/lib/python3.7/site-packages/sklearn/linear_model/_logistic.py:1321: UserWarning: Setting penalty='none' will ignore the C and l1_ratio parameters\n",
      "  \"Setting penalty='none' will ignore the C and l1_ratio \"\n",
      "/opt/conda/lib/python3.7/site-packages/sklearn/linear_model/_logistic.py:1321: UserWarning: Setting penalty='none' will ignore the C and l1_ratio parameters\n",
      "  \"Setting penalty='none' will ignore the C and l1_ratio \"\n",
      "/opt/conda/lib/python3.7/site-packages/sklearn/linear_model/_logistic.py:1321: UserWarning: Setting penalty='none' will ignore the C and l1_ratio parameters\n",
      "  \"Setting penalty='none' will ignore the C and l1_ratio \"\n",
      "/opt/conda/lib/python3.7/site-packages/sklearn/linear_model/_logistic.py:1321: UserWarning: Setting penalty='none' will ignore the C and l1_ratio parameters\n",
      "  \"Setting penalty='none' will ignore the C and l1_ratio \"\n",
      "/opt/conda/lib/python3.7/site-packages/sklearn/model_selection/_validation.py:552: FitFailedWarning: Estimator fit failed. The score on this train-test partition for these parameters will be set to 0.000000. Details: \n",
      "Traceback (most recent call last):\n",
      "  File \"/opt/conda/lib/python3.7/site-packages/sklearn/model_selection/_validation.py\", line 531, in _fit_and_score\n",
      "    estimator.fit(X_train, y_train, **fit_params)\n",
      "  File \"/opt/conda/lib/python3.7/site-packages/sklearn/linear_model/_logistic.py\", line 1304, in fit\n",
      "    solver = _check_solver(self.solver, self.penalty, self.dual)\n",
      "  File \"/opt/conda/lib/python3.7/site-packages/sklearn/linear_model/_logistic.py\", line 454, in _check_solver\n",
      "    \"penalty='none' is not supported for the liblinear solver\"\n",
      "ValueError: penalty='none' is not supported for the liblinear solver\n",
      "\n",
      "  FitFailedWarning)\n",
      "/opt/conda/lib/python3.7/site-packages/sklearn/model_selection/_validation.py:552: FitFailedWarning: Estimator fit failed. The score on this train-test partition for these parameters will be set to 0.000000. Details: \n",
      "Traceback (most recent call last):\n",
      "  File \"/opt/conda/lib/python3.7/site-packages/sklearn/model_selection/_validation.py\", line 531, in _fit_and_score\n",
      "    estimator.fit(X_train, y_train, **fit_params)\n",
      "  File \"/opt/conda/lib/python3.7/site-packages/sklearn/linear_model/_logistic.py\", line 1304, in fit\n",
      "    solver = _check_solver(self.solver, self.penalty, self.dual)\n",
      "  File \"/opt/conda/lib/python3.7/site-packages/sklearn/linear_model/_logistic.py\", line 443, in _check_solver\n",
      "    \"got %s penalty.\" % (solver, penalty))\n",
      "ValueError: Solver sag supports only 'l2' or 'none' penalties, got l1 penalty.\n",
      "\n",
      "  FitFailedWarning)\n",
      "/opt/conda/lib/python3.7/site-packages/sklearn/linear_model/_logistic.py:1321: UserWarning: Setting penalty='none' will ignore the C and l1_ratio parameters\n",
      "  \"Setting penalty='none' will ignore the C and l1_ratio \"\n",
      "/opt/conda/lib/python3.7/site-packages/sklearn/linear_model/_logistic.py:1321: UserWarning: Setting penalty='none' will ignore the C and l1_ratio parameters\n",
      "  \"Setting penalty='none' will ignore the C and l1_ratio \"\n",
      "/opt/conda/lib/python3.7/site-packages/sklearn/linear_model/_logistic.py:1321: UserWarning: Setting penalty='none' will ignore the C and l1_ratio parameters\n",
      "  \"Setting penalty='none' will ignore the C and l1_ratio \"\n",
      "/opt/conda/lib/python3.7/site-packages/sklearn/linear_model/_logistic.py:1321: UserWarning: Setting penalty='none' will ignore the C and l1_ratio parameters\n",
      "  \"Setting penalty='none' will ignore the C and l1_ratio \"\n",
      "/opt/conda/lib/python3.7/site-packages/sklearn/linear_model/_logistic.py:1321: UserWarning: Setting penalty='none' will ignore the C and l1_ratio parameters\n",
      "  \"Setting penalty='none' will ignore the C and l1_ratio \"\n",
      "/opt/conda/lib/python3.7/site-packages/sklearn/linear_model/_logistic.py:1321: UserWarning: Setting penalty='none' will ignore the C and l1_ratio parameters\n",
      "  \"Setting penalty='none' will ignore the C and l1_ratio \"\n",
      "/opt/conda/lib/python3.7/site-packages/sklearn/linear_model/_logistic.py:1321: UserWarning: Setting penalty='none' will ignore the C and l1_ratio parameters\n",
      "  \"Setting penalty='none' will ignore the C and l1_ratio \"\n",
      "/opt/conda/lib/python3.7/site-packages/sklearn/linear_model/_logistic.py:1321: UserWarning: Setting penalty='none' will ignore the C and l1_ratio parameters\n",
      "  \"Setting penalty='none' will ignore the C and l1_ratio \"\n",
      "/opt/conda/lib/python3.7/site-packages/sklearn/linear_model/_logistic.py:1321: UserWarning: Setting penalty='none' will ignore the C and l1_ratio parameters\n",
      "  \"Setting penalty='none' will ignore the C and l1_ratio \"\n",
      "/opt/conda/lib/python3.7/site-packages/sklearn/linear_model/_logistic.py:1321: UserWarning: Setting penalty='none' will ignore the C and l1_ratio parameters\n",
      "  \"Setting penalty='none' will ignore the C and l1_ratio \"\n",
      "/opt/conda/lib/python3.7/site-packages/sklearn/model_selection/_validation.py:552: FitFailedWarning: Estimator fit failed. The score on this train-test partition for these parameters will be set to 0.000000. Details: \n",
      "Traceback (most recent call last):\n",
      "  File \"/opt/conda/lib/python3.7/site-packages/sklearn/model_selection/_validation.py\", line 531, in _fit_and_score\n",
      "    estimator.fit(X_train, y_train, **fit_params)\n",
      "  File \"/opt/conda/lib/python3.7/site-packages/sklearn/linear_model/_logistic.py\", line 1304, in fit\n",
      "    solver = _check_solver(self.solver, self.penalty, self.dual)\n",
      "  File \"/opt/conda/lib/python3.7/site-packages/sklearn/linear_model/_logistic.py\", line 443, in _check_solver\n",
      "    \"got %s penalty.\" % (solver, penalty))\n",
      "ValueError: Solver newton-cg supports only 'l2' or 'none' penalties, got l1 penalty.\n",
      "\n",
      "  FitFailedWarning)\n",
      "/opt/conda/lib/python3.7/site-packages/sklearn/linear_model/_logistic.py:1321: UserWarning: Setting penalty='none' will ignore the C and l1_ratio parameters\n",
      "  \"Setting penalty='none' will ignore the C and l1_ratio \"\n",
      "/opt/conda/lib/python3.7/site-packages/sklearn/linear_model/_logistic.py:1321: UserWarning: Setting penalty='none' will ignore the C and l1_ratio parameters\n",
      "  \"Setting penalty='none' will ignore the C and l1_ratio \"\n",
      "/opt/conda/lib/python3.7/site-packages/sklearn/model_selection/_validation.py:552: FitFailedWarning: Estimator fit failed. The score on this train-test partition for these parameters will be set to 0.000000. Details: \n",
      "Traceback (most recent call last):\n",
      "  File \"/opt/conda/lib/python3.7/site-packages/sklearn/model_selection/_validation.py\", line 531, in _fit_and_score\n",
      "    estimator.fit(X_train, y_train, **fit_params)\n",
      "  File \"/opt/conda/lib/python3.7/site-packages/sklearn/linear_model/_logistic.py\", line 1304, in fit\n",
      "    solver = _check_solver(self.solver, self.penalty, self.dual)\n",
      "  File \"/opt/conda/lib/python3.7/site-packages/sklearn/linear_model/_logistic.py\", line 454, in _check_solver\n",
      "    \"penalty='none' is not supported for the liblinear solver\"\n",
      "ValueError: penalty='none' is not supported for the liblinear solver\n",
      "\n",
      "  FitFailedWarning)\n",
      "/opt/conda/lib/python3.7/site-packages/sklearn/linear_model/_logistic.py:1321: UserWarning: Setting penalty='none' will ignore the C and l1_ratio parameters\n",
      "  \"Setting penalty='none' will ignore the C and l1_ratio \"\n",
      "/opt/conda/lib/python3.7/site-packages/sklearn/linear_model/_logistic.py:1321: UserWarning: Setting penalty='none' will ignore the C and l1_ratio parameters\n",
      "  \"Setting penalty='none' will ignore the C and l1_ratio \"\n",
      "/opt/conda/lib/python3.7/site-packages/sklearn/linear_model/_logistic.py:1321: UserWarning: Setting penalty='none' will ignore the C and l1_ratio parameters\n",
      "  \"Setting penalty='none' will ignore the C and l1_ratio \"\n",
      "/opt/conda/lib/python3.7/site-packages/sklearn/model_selection/_validation.py:552: FitFailedWarning: Estimator fit failed. The score on this train-test partition for these parameters will be set to 0.000000. Details: \n",
      "Traceback (most recent call last):\n",
      "  File \"/opt/conda/lib/python3.7/site-packages/sklearn/model_selection/_validation.py\", line 531, in _fit_and_score\n",
      "    estimator.fit(X_train, y_train, **fit_params)\n",
      "  File \"/opt/conda/lib/python3.7/site-packages/sklearn/linear_model/_logistic.py\", line 1304, in fit\n",
      "    solver = _check_solver(self.solver, self.penalty, self.dual)\n",
      "  File \"/opt/conda/lib/python3.7/site-packages/sklearn/linear_model/_logistic.py\", line 443, in _check_solver\n",
      "    \"got %s penalty.\" % (solver, penalty))\n",
      "ValueError: Solver newton-cg supports only 'l2' or 'none' penalties, got l1 penalty.\n",
      "\n",
      "  FitFailedWarning)\n",
      "/opt/conda/lib/python3.7/site-packages/sklearn/model_selection/_validation.py:552: FitFailedWarning: Estimator fit failed. The score on this train-test partition for these parameters will be set to 0.000000. Details: \n",
      "Traceback (most recent call last):\n",
      "  File \"/opt/conda/lib/python3.7/site-packages/sklearn/model_selection/_validation.py\", line 531, in _fit_and_score\n",
      "    estimator.fit(X_train, y_train, **fit_params)\n",
      "  File \"/opt/conda/lib/python3.7/site-packages/sklearn/linear_model/_logistic.py\", line 1304, in fit\n",
      "    solver = _check_solver(self.solver, self.penalty, self.dual)\n",
      "  File \"/opt/conda/lib/python3.7/site-packages/sklearn/linear_model/_logistic.py\", line 443, in _check_solver\n",
      "    \"got %s penalty.\" % (solver, penalty))\n",
      "ValueError: Solver lbfgs supports only 'l2' or 'none' penalties, got l1 penalty.\n",
      "\n",
      "  FitFailedWarning)\n",
      "/opt/conda/lib/python3.7/site-packages/sklearn/linear_model/_logistic.py:1321: UserWarning: Setting penalty='none' will ignore the C and l1_ratio parameters\n",
      "  \"Setting penalty='none' will ignore the C and l1_ratio \"\n",
      "/opt/conda/lib/python3.7/site-packages/sklearn/linear_model/_logistic.py:1321: UserWarning: Setting penalty='none' will ignore the C and l1_ratio parameters\n",
      "  \"Setting penalty='none' will ignore the C and l1_ratio \"\n",
      "/opt/conda/lib/python3.7/site-packages/sklearn/linear_model/_logistic.py:1321: UserWarning: Setting penalty='none' will ignore the C and l1_ratio parameters\n",
      "  \"Setting penalty='none' will ignore the C and l1_ratio \"\n",
      "/opt/conda/lib/python3.7/site-packages/sklearn/linear_model/_logistic.py:1321: UserWarning: Setting penalty='none' will ignore the C and l1_ratio parameters\n",
      "  \"Setting penalty='none' will ignore the C and l1_ratio \"\n",
      "/opt/conda/lib/python3.7/site-packages/sklearn/model_selection/_validation.py:552: FitFailedWarning: Estimator fit failed. The score on this train-test partition for these parameters will be set to 0.000000. Details: \n",
      "Traceback (most recent call last):\n",
      "  File \"/opt/conda/lib/python3.7/site-packages/sklearn/model_selection/_validation.py\", line 531, in _fit_and_score\n",
      "    estimator.fit(X_train, y_train, **fit_params)\n",
      "  File \"/opt/conda/lib/python3.7/site-packages/sklearn/linear_model/_logistic.py\", line 1304, in fit\n",
      "    solver = _check_solver(self.solver, self.penalty, self.dual)\n",
      "  File \"/opt/conda/lib/python3.7/site-packages/sklearn/linear_model/_logistic.py\", line 454, in _check_solver\n",
      "    \"penalty='none' is not supported for the liblinear solver\"\n",
      "ValueError: penalty='none' is not supported for the liblinear solver\n",
      "\n",
      "  FitFailedWarning)\n",
      "/opt/conda/lib/python3.7/site-packages/sklearn/model_selection/_validation.py:552: FitFailedWarning: Estimator fit failed. The score on this train-test partition for these parameters will be set to 0.000000. Details: \n",
      "Traceback (most recent call last):\n",
      "  File \"/opt/conda/lib/python3.7/site-packages/sklearn/model_selection/_validation.py\", line 531, in _fit_and_score\n",
      "    estimator.fit(X_train, y_train, **fit_params)\n",
      "  File \"/opt/conda/lib/python3.7/site-packages/sklearn/linear_model/_logistic.py\", line 1304, in fit\n",
      "    solver = _check_solver(self.solver, self.penalty, self.dual)\n",
      "  File \"/opt/conda/lib/python3.7/site-packages/sklearn/linear_model/_logistic.py\", line 443, in _check_solver\n",
      "    \"got %s penalty.\" % (solver, penalty))\n",
      "ValueError: Solver newton-cg supports only 'l2' or 'none' penalties, got l1 penalty.\n",
      "\n",
      "  FitFailedWarning)\n",
      "/opt/conda/lib/python3.7/site-packages/sklearn/linear_model/_logistic.py:1321: UserWarning: Setting penalty='none' will ignore the C and l1_ratio parameters\n",
      "  \"Setting penalty='none' will ignore the C and l1_ratio \"\n",
      "/opt/conda/lib/python3.7/site-packages/sklearn/linear_model/_logistic.py:1321: UserWarning: Setting penalty='none' will ignore the C and l1_ratio parameters\n",
      "  \"Setting penalty='none' will ignore the C and l1_ratio \"\n",
      "/opt/conda/lib/python3.7/site-packages/sklearn/linear_model/_logistic.py:1321: UserWarning: Setting penalty='none' will ignore the C and l1_ratio parameters\n",
      "  \"Setting penalty='none' will ignore the C and l1_ratio \"\n",
      "/opt/conda/lib/python3.7/site-packages/sklearn/linear_model/_logistic.py:1321: UserWarning: Setting penalty='none' will ignore the C and l1_ratio parameters\n",
      "  \"Setting penalty='none' will ignore the C and l1_ratio \"\n",
      "/opt/conda/lib/python3.7/site-packages/sklearn/linear_model/_logistic.py:1321: UserWarning: Setting penalty='none' will ignore the C and l1_ratio parameters\n",
      "  \"Setting penalty='none' will ignore the C and l1_ratio \"\n",
      "/opt/conda/lib/python3.7/site-packages/sklearn/linear_model/_logistic.py:1321: UserWarning: Setting penalty='none' will ignore the C and l1_ratio parameters\n",
      "  \"Setting penalty='none' will ignore the C and l1_ratio \"\n",
      "/opt/conda/lib/python3.7/site-packages/sklearn/linear_model/_logistic.py:1321: UserWarning: Setting penalty='none' will ignore the C and l1_ratio parameters\n",
      "  \"Setting penalty='none' will ignore the C and l1_ratio \"\n",
      "/opt/conda/lib/python3.7/site-packages/sklearn/linear_model/_logistic.py:1321: UserWarning: Setting penalty='none' will ignore the C and l1_ratio parameters\n",
      "  \"Setting penalty='none' will ignore the C and l1_ratio \"\n",
      "/opt/conda/lib/python3.7/site-packages/sklearn/linear_model/_logistic.py:1321: UserWarning: Setting penalty='none' will ignore the C and l1_ratio parameters\n",
      "  \"Setting penalty='none' will ignore the C and l1_ratio \"\n",
      "/opt/conda/lib/python3.7/site-packages/sklearn/linear_model/_logistic.py:1321: UserWarning: Setting penalty='none' will ignore the C and l1_ratio parameters\n",
      "  \"Setting penalty='none' will ignore the C and l1_ratio \"\n"
     ]
    }
   ],
   "source": [
    "grid = dict(solver=solvers,penalty=penalty,C=c_values)\n",
    "grid_search = GridSearchCV(estimator=logreg, param_grid=grid, n_jobs=-1, scoring='accuracy',error_score=0)\n",
    "grid_result = grid_search.fit(X, y)"
   ]
  },
  {
   "cell_type": "code",
   "execution_count": 32,
   "id": "07b89b9e",
   "metadata": {
    "execution": {
     "iopub.execute_input": "2023-04-27T06:47:24.622568Z",
     "iopub.status.busy": "2023-04-27T06:47:24.621553Z",
     "iopub.status.idle": "2023-04-27T06:47:24.627488Z",
     "shell.execute_reply": "2023-04-27T06:47:24.627954Z",
     "shell.execute_reply.started": "2023-04-27T06:44:02.090201Z"
    },
    "papermill": {
     "duration": 0.088298,
     "end_time": "2023-04-27T06:47:24.628152",
     "exception": false,
     "start_time": "2023-04-27T06:47:24.539854",
     "status": "completed"
    },
    "tags": []
   },
   "outputs": [
    {
     "name": "stdout",
     "output_type": "stream",
     "text": [
      "Best: 0.979908 using {'C': 0.1, 'penalty': 'l2', 'solver': 'liblinear'}\n"
     ]
    }
   ],
   "source": [
    "print(\"Best: %f using %s\" % (grid_result.best_score_, grid_result.best_params_))\n",
    "means = grid_result.cv_results_['mean_test_score']\n",
    "stds = grid_result.cv_results_['std_test_score']\n",
    "params = grid_result.cv_results_['params']"
   ]
  },
  {
   "cell_type": "markdown",
   "id": "e214740b",
   "metadata": {
    "papermill": {
     "duration": 0.076884,
     "end_time": "2023-04-27T06:47:24.782704",
     "exception": false,
     "start_time": "2023-04-27T06:47:24.705820",
     "status": "completed"
    },
    "tags": []
   },
   "source": [
    "We've defined that the best accuracy will'be reached by using C=0.1, penalty = 'l2' and a  solver = 'liblinear'. Now, let's train the model with these parameters:"
   ]
  },
  {
   "cell_type": "code",
   "execution_count": 33,
   "id": "a354028a",
   "metadata": {
    "execution": {
     "iopub.execute_input": "2023-04-27T06:47:24.942464Z",
     "iopub.status.busy": "2023-04-27T06:47:24.941490Z",
     "iopub.status.idle": "2023-04-27T06:47:24.952538Z",
     "shell.execute_reply": "2023-04-27T06:47:24.953035Z",
     "shell.execute_reply.started": "2023-04-27T06:44:02.100111Z"
    },
    "papermill": {
     "duration": 0.092342,
     "end_time": "2023-04-27T06:47:24.953223",
     "exception": false,
     "start_time": "2023-04-27T06:47:24.860881",
     "status": "completed"
    },
    "tags": []
   },
   "outputs": [],
   "source": [
    "logreg = LogisticRegression(C=0.1, penalty='l2', solver='liblinear')\n",
    "logreg.fit(X_train, y_train)\n",
    "y_pred = logreg.predict(X_test)"
   ]
  },
  {
   "cell_type": "markdown",
   "id": "6785aea3",
   "metadata": {
    "papermill": {
     "duration": 0.077974,
     "end_time": "2023-04-27T06:47:25.109205",
     "exception": false,
     "start_time": "2023-04-27T06:47:25.031231",
     "status": "completed"
    },
    "tags": []
   },
   "source": [
    "Let's see what accuracy we get on training and testins set to make sure the model is not underfitted or overfitted."
   ]
  },
  {
   "cell_type": "code",
   "execution_count": 34,
   "id": "cb194034",
   "metadata": {
    "execution": {
     "iopub.execute_input": "2023-04-27T06:47:25.293683Z",
     "iopub.status.busy": "2023-04-27T06:47:25.292724Z",
     "iopub.status.idle": "2023-04-27T06:47:25.302845Z",
     "shell.execute_reply": "2023-04-27T06:47:25.302314Z",
     "shell.execute_reply.started": "2023-04-27T06:44:02.123502Z"
    },
    "papermill": {
     "duration": 0.090784,
     "end_time": "2023-04-27T06:47:25.302990",
     "exception": false,
     "start_time": "2023-04-27T06:47:25.212206",
     "status": "completed"
    },
    "tags": []
   },
   "outputs": [
    {
     "name": "stdout",
     "output_type": "stream",
     "text": [
      "Training score: 0.979\n",
      "Testing score: 0.975\n"
     ]
    }
   ],
   "source": [
    "print('Training score: {:.3f}'.format(logreg.score(X_train,y_train)))\n",
    "print('Testing score: {:.3f}'.format(logreg.score(X_test,y_test)))"
   ]
  },
  {
   "cell_type": "markdown",
   "id": "03aeedf6",
   "metadata": {
    "papermill": {
     "duration": 0.079313,
     "end_time": "2023-04-27T06:47:25.460517",
     "exception": false,
     "start_time": "2023-04-27T06:47:25.381204",
     "status": "completed"
    },
    "tags": []
   },
   "source": [
    "Wee see that both training and testing scores are high and the model perfoms well on both sets. The last step is to run the classification report and identify ***Type I and Type II errors***."
   ]
  },
  {
   "cell_type": "code",
   "execution_count": 35,
   "id": "9e1ec9f4",
   "metadata": {
    "execution": {
     "iopub.execute_input": "2023-04-27T06:47:25.624921Z",
     "iopub.status.busy": "2023-04-27T06:47:25.623908Z",
     "iopub.status.idle": "2023-04-27T06:47:25.777234Z",
     "shell.execute_reply": "2023-04-27T06:47:25.778322Z",
     "shell.execute_reply.started": "2023-04-27T06:44:02.139427Z"
    },
    "papermill": {
     "duration": 0.237989,
     "end_time": "2023-04-27T06:47:25.778655",
     "exception": false,
     "start_time": "2023-04-27T06:47:25.540666",
     "status": "completed"
    },
    "tags": []
   },
   "outputs": [
    {
     "name": "stdout",
     "output_type": "stream",
     "text": [
      "              precision    recall  f1-score   support\n",
      "\n",
      "           0       1.00      0.97      0.99      1989\n",
      "           1       0.80      1.00      0.89       224\n",
      "\n",
      "    accuracy                           0.97      2213\n",
      "   macro avg       0.90      0.98      0.94      2213\n",
      "weighted avg       0.98      0.97      0.98      2213\n",
      "\n",
      "AxesSubplot(0.125,0.125;0.775x0.755)\n"
     ]
    },
    {
     "data": {
      "image/png": "[encoded data removed]",
      "text/plain": [
       "<Figure size 432x288 with 1 Axes>"
      ]
     },
     "metadata": {
      "needs_background": "light"
     },
     "output_type": "display_data"
    }
   ],
   "source": [
    "print(classification_report(y_test, y_pred))\n",
    "print(sns.heatmap(confusion_matrix(y_test, y_pred), annot=True, fmt='.4g',                 \n",
    "                 xticklabels=['Normal behaviour (0 class)','Otherwise (1 class)'],                \n",
    "                 yticklabels=['Normal behaviour (0 class)','Otherwise (1 class)'],                  \n",
    "                 cbar=False, cmap='Blues'))"
   ]
  },
  {
   "cell_type": "markdown",
   "id": "805a6cee",
   "metadata": {
    "papermill": {
     "duration": 0.078432,
     "end_time": "2023-04-27T06:47:25.968635",
     "exception": false,
     "start_time": "2023-04-27T06:47:25.890203",
     "status": "completed"
    },
    "tags": []
   },
   "source": [
    "We can obserse that the model perfomed very well. Over 1984 **0 class** values 55 were predicted as False Positive and over 224 **1 class** values only 1 was predicted as False Negative, which is a very good result."
   ]
  },
  {
   "cell_type": "markdown",
   "id": "d881cf58",
   "metadata": {
    "papermill": {
     "duration": 0.079064,
     "end_time": "2023-04-27T06:47:26.127699",
     "exception": false,
     "start_time": "2023-04-27T06:47:26.048635",
     "status": "completed"
    },
    "tags": []
   },
   "source": [
    "Next ML model I want to use is a DecisionTreeClassifier. Decision Tree is a Supervised Machine Learning Algorithm that uses a set of rules to make decisions. The intuition behind Decision Trees is that we use the dataset features to create yes/no questions and continually split the dataset until we isolate all data points belonging to each class. Every time we ask a question we add a node to the tree. The result of asking a question splits the dataset based on the value of a feature, and creates new nodes. The algorithm tries to completely separate the dataset such that all leaf nodes, i.e., the nodes that don’t split the data further, belong to a single class. These are called pure leaf nodes. In the end, the algorithm can only assign one class to the data points in each leaf node. (Bento, 2021)"
   ]
  },
  {
   "cell_type": "markdown",
   "id": "daf3daa0",
   "metadata": {
    "papermill": {
     "duration": 0.079038,
     "end_time": "2023-04-27T06:47:26.286166",
     "exception": false,
     "start_time": "2023-04-27T06:47:26.207128",
     "status": "completed"
    },
    "tags": []
   },
   "source": [
    "#### Decision Tree"
   ]
  },
  {
   "cell_type": "markdown",
   "id": "fe94aa22",
   "metadata": {
    "papermill": {
     "duration": 0.080028,
     "end_time": "2023-04-27T06:47:26.445120",
     "exception": false,
     "start_time": "2023-04-27T06:47:26.365092",
     "status": "completed"
    },
    "tags": []
   },
   "source": [
    "Fitting the model first:"
   ]
  },
  {
   "cell_type": "code",
   "execution_count": 36,
   "id": "771ae28b",
   "metadata": {
    "execution": {
     "iopub.execute_input": "2023-04-27T06:47:26.611605Z",
     "iopub.status.busy": "2023-04-27T06:47:26.610900Z",
     "iopub.status.idle": "2023-04-27T06:47:26.618906Z",
     "shell.execute_reply": "2023-04-27T06:47:26.618267Z",
     "shell.execute_reply.started": "2023-04-27T06:44:02.306824Z"
    },
    "papermill": {
     "duration": 0.094573,
     "end_time": "2023-04-27T06:47:26.619077",
     "exception": false,
     "start_time": "2023-04-27T06:47:26.524504",
     "status": "completed"
    },
    "tags": []
   },
   "outputs": [],
   "source": [
    "tree = DecisionTreeClassifier(random_state=1)\n",
    "tree.fit(X_train, y_train)\n",
    "y_pred = tree.predict(X_test)"
   ]
  },
  {
   "cell_type": "markdown",
   "id": "5f5dc416",
   "metadata": {
    "papermill": {
     "duration": 0.078198,
     "end_time": "2023-04-27T06:47:26.776035",
     "exception": false,
     "start_time": "2023-04-27T06:47:26.697837",
     "status": "completed"
    },
    "tags": []
   },
   "source": [
    "Similarly to the previous chapter we want to define the best parameters in order to reach the best accuracy. For this model I'll be chechking the next parameters:\n",
    "* **Max_depth**;\n",
    "* **Min_samples_leaf**.\n",
    "\n",
    "**Max_depth** - The maximum depth of the tree. If None, then nodes are expanded until all leaves are pure or until all leaves contain less than min_samples_split samples.\n",
    "\n",
    "**Min_samples_leaf** - The minimum number of samples required to be at a leaf node. A split point at any depth will only be considered if it leaves at least min_samples_leaf training samples in each of the left and right branches. "
   ]
  },
  {
   "cell_type": "markdown",
   "id": "e33e0167",
   "metadata": {
    "papermill": {
     "duration": 0.078407,
     "end_time": "2023-04-27T06:47:26.933023",
     "exception": false,
     "start_time": "2023-04-27T06:47:26.854616",
     "status": "completed"
    },
    "tags": []
   },
   "source": [
    "##### Tuning hyper-parameters of an estimator"
   ]
  },
  {
   "cell_type": "markdown",
   "id": "bb8db00c",
   "metadata": {
    "papermill": {
     "duration": 0.079525,
     "end_time": "2023-04-27T06:47:27.091597",
     "exception": false,
     "start_time": "2023-04-27T06:47:27.012072",
     "status": "completed"
    },
    "tags": []
   },
   "source": [
    "For both hyperparameters defined I'll create a range between 1 to 20. The estimator will check each value of both in order to define the best ones."
   ]
  },
  {
   "cell_type": "code",
   "execution_count": 37,
   "id": "743154aa",
   "metadata": {
    "execution": {
     "iopub.execute_input": "2023-04-27T06:47:27.254412Z",
     "iopub.status.busy": "2023-04-27T06:47:27.253673Z",
     "iopub.status.idle": "2023-04-27T06:47:27.258183Z",
     "shell.execute_reply": "2023-04-27T06:47:27.257582Z",
     "shell.execute_reply.started": "2023-04-27T06:44:02.330159Z"
    },
    "papermill": {
     "duration": 0.08767,
     "end_time": "2023-04-27T06:47:27.258334",
     "exception": false,
     "start_time": "2023-04-27T06:47:27.170664",
     "status": "completed"
    },
    "tags": []
   },
   "outputs": [],
   "source": [
    "depth = range(1, 20)\n",
    "leaf = range(1, 20)"
   ]
  },
  {
   "cell_type": "code",
   "execution_count": 38,
   "id": "a3b18b89",
   "metadata": {
    "execution": {
     "iopub.execute_input": "2023-04-27T06:47:27.426822Z",
     "iopub.status.busy": "2023-04-27T06:47:27.426152Z",
     "iopub.status.idle": "2023-04-27T06:47:32.698264Z",
     "shell.execute_reply": "2023-04-27T06:47:32.698766Z",
     "shell.execute_reply.started": "2023-04-27T06:44:02.337540Z"
    },
    "papermill": {
     "duration": 5.360585,
     "end_time": "2023-04-27T06:47:32.698981",
     "exception": false,
     "start_time": "2023-04-27T06:47:27.338396",
     "status": "completed"
    },
    "tags": []
   },
   "outputs": [],
   "source": [
    "grid = dict(max_depth=depth,min_samples_leaf=leaf)\n",
    "grid_search = GridSearchCV(estimator=tree, param_grid=grid, n_jobs=-1, scoring='accuracy',error_score=0)\n",
    "grid_result = grid_search.fit(X, y)"
   ]
  },
  {
   "cell_type": "code",
   "execution_count": 39,
   "id": "0896715f",
   "metadata": {
    "execution": {
     "iopub.execute_input": "2023-04-27T06:47:32.863244Z",
     "iopub.status.busy": "2023-04-27T06:47:32.860487Z",
     "iopub.status.idle": "2023-04-27T06:47:32.867270Z",
     "shell.execute_reply": "2023-04-27T06:47:32.866700Z",
     "shell.execute_reply.started": "2023-04-27T06:44:08.473229Z"
    },
    "papermill": {
     "duration": 0.089534,
     "end_time": "2023-04-27T06:47:32.867415",
     "exception": false,
     "start_time": "2023-04-27T06:47:32.777881",
     "status": "completed"
    },
    "tags": []
   },
   "outputs": [
    {
     "name": "stdout",
     "output_type": "stream",
     "text": [
      "Best: 0.981649 using {'max_depth': 4, 'min_samples_leaf': 4}\n"
     ]
    }
   ],
   "source": [
    "print(\"Best: %f using %s\" % (grid_result.best_score_, grid_result.best_params_))\n",
    "means = grid_result.cv_results_['mean_test_score']\n",
    "stds = grid_result.cv_results_['std_test_score']\n",
    "params = grid_result.cv_results_['params']"
   ]
  },
  {
   "cell_type": "markdown",
   "id": "a1784953",
   "metadata": {
    "papermill": {
     "duration": 0.078999,
     "end_time": "2023-04-27T06:47:33.025651",
     "exception": false,
     "start_time": "2023-04-27T06:47:32.946652",
     "status": "completed"
    },
    "tags": []
   },
   "source": [
    "We see that the estimator has defined **max_depth** and **min_samples_leaf** both equal 4. Let's train the model by using defined parameters."
   ]
  },
  {
   "cell_type": "code",
   "execution_count": 40,
   "id": "24bcf1f4",
   "metadata": {
    "execution": {
     "iopub.execute_input": "2023-04-27T06:47:33.193857Z",
     "iopub.status.busy": "2023-04-27T06:47:33.193155Z",
     "iopub.status.idle": "2023-04-27T06:47:33.199660Z",
     "shell.execute_reply": "2023-04-27T06:47:33.200161Z",
     "shell.execute_reply.started": "2023-04-27T06:44:08.484918Z"
    },
    "papermill": {
     "duration": 0.094449,
     "end_time": "2023-04-27T06:47:33.200345",
     "exception": false,
     "start_time": "2023-04-27T06:47:33.105896",
     "status": "completed"
    },
    "tags": []
   },
   "outputs": [],
   "source": [
    "tree = DecisionTreeClassifier(max_depth=4, min_samples_leaf=4, random_state=1)\n",
    "tree.fit(X_train, y_train)\n",
    "y_pred = tree.predict(X_test)"
   ]
  },
  {
   "cell_type": "code",
   "execution_count": 41,
   "id": "0f335548",
   "metadata": {
    "execution": {
     "iopub.execute_input": "2023-04-27T06:47:33.367984Z",
     "iopub.status.busy": "2023-04-27T06:47:33.367051Z",
     "iopub.status.idle": "2023-04-27T06:47:33.373297Z",
     "shell.execute_reply": "2023-04-27T06:47:33.373764Z",
     "shell.execute_reply.started": "2023-04-27T06:44:08.514274Z"
    },
    "papermill": {
     "duration": 0.092709,
     "end_time": "2023-04-27T06:47:33.373939",
     "exception": false,
     "start_time": "2023-04-27T06:47:33.281230",
     "status": "completed"
    },
    "tags": []
   },
   "outputs": [
    {
     "name": "stdout",
     "output_type": "stream",
     "text": [
      "Training score: 0.984\n",
      "Testing score: 0.978\n"
     ]
    }
   ],
   "source": [
    "print('Training score: {:.3f}'.format(tree.score(X_train,y_train)))\n",
    "print('Testing score: {:.3f}'.format(tree.score(X_test,y_test)))"
   ]
  },
  {
   "cell_type": "markdown",
   "id": "d0000e63",
   "metadata": {
    "papermill": {
     "duration": 0.080063,
     "end_time": "2023-04-27T06:47:33.534142",
     "exception": false,
     "start_time": "2023-04-27T06:47:33.454079",
     "status": "completed"
    },
    "tags": []
   },
   "source": [
    "Training and testing accuracy I've got are a bit higher than with the LogisticRegression and should give us a better result in the classification report."
   ]
  },
  {
   "cell_type": "code",
   "execution_count": 42,
   "id": "8880f7b1",
   "metadata": {
    "execution": {
     "iopub.execute_input": "2023-04-27T06:47:33.696567Z",
     "iopub.status.busy": "2023-04-27T06:47:33.695932Z",
     "iopub.status.idle": "2023-04-27T06:47:33.847322Z",
     "shell.execute_reply": "2023-04-27T06:47:33.848644Z",
     "shell.execute_reply.started": "2023-04-27T06:44:08.527737Z"
    },
    "papermill": {
     "duration": 0.235014,
     "end_time": "2023-04-27T06:47:33.849005",
     "exception": false,
     "start_time": "2023-04-27T06:47:33.613991",
     "status": "completed"
    },
    "tags": []
   },
   "outputs": [
    {
     "name": "stdout",
     "output_type": "stream",
     "text": [
      "              precision    recall  f1-score   support\n",
      "\n",
      "           0       1.00      0.98      0.99      1989\n",
      "           1       0.83      0.99      0.90       224\n",
      "\n",
      "    accuracy                           0.98      2213\n",
      "   macro avg       0.91      0.98      0.95      2213\n",
      "weighted avg       0.98      0.98      0.98      2213\n",
      "\n",
      "AxesSubplot(0.125,0.125;0.775x0.755)\n"
     ]
    },
    {
     "data": {
      "image/png": "[encoded data removed]",
      "text/plain": [
       "<Figure size 432x288 with 1 Axes>"
      ]
     },
     "metadata": {
      "needs_background": "light"
     },
     "output_type": "display_data"
    }
   ],
   "source": [
    "print(classification_report(y_test, y_pred))\n",
    "print(sns.heatmap(confusion_matrix(y_test, y_pred), annot=True, fmt='.4g',                 \n",
    "                 xticklabels=['Normal behaviour (0 class)','Otherwise (1 class)'],                \n",
    "                 yticklabels=['Normal behaviour (0 class)','Otherwise (1 class)'],                  \n",
    "                 cbar=False, cmap='Blues'))"
   ]
  },
  {
   "cell_type": "markdown",
   "id": "18991311",
   "metadata": {
    "papermill": {
     "duration": 0.080294,
     "end_time": "2023-04-27T06:47:34.042065",
     "exception": false,
     "start_time": "2023-04-27T06:47:33.961771",
     "status": "completed"
    },
    "tags": []
   },
   "source": [
    "We infer that with this model over 1984 **0 class** values 46 were predicted as False Positive and over 224 **1 class** values 2 were predicted as False Negative."
   ]
  },
  {
   "cell_type": "markdown",
   "id": "14af1195",
   "metadata": {
    "papermill": {
     "duration": 0.080157,
     "end_time": "2023-04-27T06:47:34.204070",
     "exception": false,
     "start_time": "2023-04-27T06:47:34.123913",
     "status": "completed"
    },
    "tags": []
   },
   "source": [
    "In the table below some main comparative characteristics are presented:\n",
    "\n",
    "\n",
    "| <center> **Comparative characteristics**  <center>   |  <center> **LogisticRegression** <center>  |  <center> **DecisionTreeClassifier**  <center> |  \n",
    "| ----------- | ----------- | ----------- |\n",
    "| <center> Number of used hyperparameters  <center>    | <center> 3  <center>     | <center> 2<center> | \n",
    "| <center> Running time <center>  | <center> ~ 5 sec <center>        | <center> ~ 5 sec <center> | \n",
    "| <center> Training accuracy  <center>  | <center> 0.979 <center>        | <center> 0.984 <center> | \n",
    "| <center> Testing accuracy  <center>  | <center> 0.975 <center>        | <center> 0.978 <center> | \n",
    "| <center> Type I error  <center>  | <center> 55 <center>        | <center> 46 <center> |\n",
    "| <center> Type II error  <center>  | <center> 1 <center>        | <center> 2 <center> |\n",
    "    \n",
    "We can conclude, that overall both models perfomed very well, however the DecisionTreeClassifier perfomed slightly better."
   ]
  },
  {
   "cell_type": "markdown",
   "id": "fd3c2ef2",
   "metadata": {
    "papermill": {
     "duration": 0.080862,
     "end_time": "2023-04-27T06:47:34.365759",
     "exception": false,
     "start_time": "2023-04-27T06:47:34.284897",
     "status": "completed"
    },
    "tags": []
   },
   "source": [
    "### 5. Evaluation"
   ]
  },
  {
   "cell_type": "markdown",
   "id": "47e31d6a",
   "metadata": {
    "papermill": {
     "duration": 0.084677,
     "end_time": "2023-04-27T06:47:34.534048",
     "exception": false,
     "start_time": "2023-04-27T06:47:34.449371",
     "status": "completed"
    },
    "tags": []
   },
   "source": [
    "The Evaluation phase is different from the Modeling technical evaluation. This phase evaluates the model concerning the business indicator and what to do next.\n",
    "On the business understanding stage we've defined two main question we would like to get answers with the project:\n",
    "* What features are the most important for bidding class prediction?\n",
    "* Can a target variable be predicted with an accuracy higher than 90%?\n",
    "\n",
    "We detected that three the most important features for predicting the target variable are:\n",
    "\n",
    "* **Successive_Outbidding**;\n",
    "* **Auction_Duration**;\n",
    "* **Winning_Ratio**,\n",
    "\n",
    "and the less important are:\n",
    "\n",
    "* **Starting_Price_Average**;\n",
    "* **Auction_ID**;\n",
    "* **Early_Bidding**.\n",
    "\n",
    "It means that next time when mining data we can focus more on getting observations for top 3 most important features and don't give great importance the less important features.\n",
    "\n",
    "Also we found out that the target variable can be predicted with an accuracy higher than 90% if using the LogisticRegression and the DecisionTreeClassifier models."
   ]
  },
  {
   "cell_type": "markdown",
   "id": "88974ae7",
   "metadata": {
    "papermill": {
     "duration": 0.080099,
     "end_time": "2023-04-27T06:47:34.699044",
     "exception": false,
     "start_time": "2023-04-27T06:47:34.618945",
     "status": "completed"
    },
    "tags": []
   },
   "source": [
    "### 6. Deployment"
   ]
  },
  {
   "cell_type": "markdown",
   "id": "ac8d3f61",
   "metadata": {
    "papermill": {
     "duration": 0.079925,
     "end_time": "2023-04-27T06:47:34.859705",
     "exception": false,
     "start_time": "2023-04-27T06:47:34.779780",
     "status": "completed"
    },
    "tags": []
   },
   "source": [
    "Although on practice the stage is being used as a way to deliver findings and outcomes to the user, I'll use the part to conclude what I've done.\n",
    "So far, I've been able to deliver business goals, I had defined on the business understanding stage. I determined most important features which can be used in future for data mining. Both of model had perfomed really well and satisfied the accuracy requirements. I tuned hyperparameters and compared perfomance of two models. I was able to implement two dimensionality reduction techniques and compared the results."
   ]
  }
 ],
 "metadata": {
  "kernelspec": {
   "display_name": "Python 3",
   "language": "python",
   "name": "python3"
  },
  "language_info": {
   "codemirror_mode": {
    "name": "ipython",
    "version": 3
   },
   "file_extension": ".py",
   "mimetype": "text/x-python",
   "name": "python",
   "nbconvert_exporter": "python",
   "pygments_lexer": "ipython3",
   "version": "3.7.12"
  },
  "papermill": {
   "default_parameters": {},
   "duration": 42.697596,
   "end_time": "2023-04-27T06:47:35.854420",
   "environment_variables": {},
   "exception": null,
   "input_path": "__notebook__.ipynb",
   "output_path": "__notebook__.ipynb",
   "parameters": {},
   "start_time": "2023-04-27T06:46:53.156824",
   "version": "2.3.3"
  }
 },
 "nbformat": 4,
 "nbformat_minor": 5
}
